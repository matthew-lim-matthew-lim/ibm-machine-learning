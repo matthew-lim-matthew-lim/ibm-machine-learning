{
 "cells": [
  {
   "cell_type": "code",
   "execution_count": 5,
   "metadata": {},
   "outputs": [],
   "source": [
    "import pandas as pd\n",
    "import numpy as np\n",
    "from sklearn.model_selection import train_test_split\n",
    "import matplotlib.pyplot as plt"
   ]
  },
  {
   "cell_type": "code",
   "execution_count": 6,
   "metadata": {},
   "outputs": [
    {
     "data": {
      "text/plain": [
       "(8185, 15)"
      ]
     },
     "execution_count": 6,
     "metadata": {},
     "output_type": "execute_result"
    }
   ],
   "source": [
    "df = pd.read_csv(\"https://datasocibmproject.s3.ap-southeast-2.amazonaws.com/structured_data/capital_project_schedules_and_budgets_1.csv\")\n",
    "df = df.drop(columns=['Unnamed: 0'])\n",
    "df.shape"
   ]
  },
  {
   "cell_type": "code",
   "execution_count": 7,
   "metadata": {},
   "outputs": [
    {
     "data": {
      "text/html": [
       "<div>\n",
       "<style scoped>\n",
       "    .dataframe tbody tr th:only-of-type {\n",
       "        vertical-align: middle;\n",
       "    }\n",
       "\n",
       "    .dataframe tbody tr th {\n",
       "        vertical-align: top;\n",
       "    }\n",
       "\n",
       "    .dataframe thead th {\n",
       "        text-align: right;\n",
       "    }\n",
       "</style>\n",
       "<table border=\"1\" class=\"dataframe\">\n",
       "  <thead>\n",
       "    <tr style=\"text-align: right;\">\n",
       "      <th></th>\n",
       "      <th>project_geographic_district</th>\n",
       "      <th>project_building_identifier</th>\n",
       "      <th>project_school_name</th>\n",
       "      <th>project_type</th>\n",
       "      <th>project_description</th>\n",
       "      <th>project_phase_name</th>\n",
       "      <th>project_status_name</th>\n",
       "      <th>project_phase_actual_start_date</th>\n",
       "      <th>project_phase_planned_end_date</th>\n",
       "      <th>project_phase_actual_end_date</th>\n",
       "      <th>project_budget_amount</th>\n",
       "      <th>final_estimate_of_actual_costs_through_end_of_phase_amount</th>\n",
       "      <th>total_phase_actual_spending_amount</th>\n",
       "      <th>dsf_number_s</th>\n",
       "      <th>failure</th>\n",
       "    </tr>\n",
       "  </thead>\n",
       "  <tbody>\n",
       "    <tr>\n",
       "      <th>0</th>\n",
       "      <td>10</td>\n",
       "      <td>X254</td>\n",
       "      <td>I.S. 254 - BRONX</td>\n",
       "      <td>SCA CIP</td>\n",
       "      <td>FACADE/ROOFS</td>\n",
       "      <td>Construction</td>\n",
       "      <td>In-Progress</td>\n",
       "      <td>07/07/2016</td>\n",
       "      <td>03/28/2018</td>\n",
       "      <td>NaN</td>\n",
       "      <td>4050000</td>\n",
       "      <td>4229193.0</td>\n",
       "      <td>3791127.0</td>\n",
       "      <td>DSF: 0000821031, 0000822210</td>\n",
       "      <td>False</td>\n",
       "    </tr>\n",
       "    <tr>\n",
       "      <th>1</th>\n",
       "      <td>10</td>\n",
       "      <td>X254</td>\n",
       "      <td>I.S. 254 - BRONX</td>\n",
       "      <td>SCA CIP</td>\n",
       "      <td>FACADE/ROOFS</td>\n",
       "      <td>CM, F&amp;E</td>\n",
       "      <td>In-Progress</td>\n",
       "      <td>07/07/2016</td>\n",
       "      <td>03/28/2018</td>\n",
       "      <td>NaN</td>\n",
       "      <td>252000</td>\n",
       "      <td>489326.0</td>\n",
       "      <td>485620.0</td>\n",
       "      <td>DSF: 0000821031, 0000822210</td>\n",
       "      <td>False</td>\n",
       "    </tr>\n",
       "    <tr>\n",
       "      <th>2</th>\n",
       "      <td>10</td>\n",
       "      <td>X254</td>\n",
       "      <td>I.S. 254 - BRONX</td>\n",
       "      <td>SCA CIP RESOA</td>\n",
       "      <td>FY16 RESO A IP SURVEILLANCE CAMERA INSTALLATION</td>\n",
       "      <td>Scope</td>\n",
       "      <td>Complete</td>\n",
       "      <td>07/27/2017</td>\n",
       "      <td>11/27/2017</td>\n",
       "      <td>08/03/2017</td>\n",
       "      <td>0</td>\n",
       "      <td>1792.0</td>\n",
       "      <td>1792.0</td>\n",
       "      <td>DSF: 0000823560</td>\n",
       "      <td>False</td>\n",
       "    </tr>\n",
       "    <tr>\n",
       "      <th>3</th>\n",
       "      <td>10</td>\n",
       "      <td>X254</td>\n",
       "      <td>I.S. 254 - BRONX</td>\n",
       "      <td>SCA CIP RESOA</td>\n",
       "      <td>FY16 RESO A IP SURVEILLANCE CAMERA INSTALLATION</td>\n",
       "      <td>Design</td>\n",
       "      <td>In-Progress</td>\n",
       "      <td>08/04/2017</td>\n",
       "      <td>02/05/2018</td>\n",
       "      <td>NaN</td>\n",
       "      <td>19110</td>\n",
       "      <td>17318.0</td>\n",
       "      <td>7169.0</td>\n",
       "      <td>DSF: 0000823560</td>\n",
       "      <td>True</td>\n",
       "    </tr>\n",
       "    <tr>\n",
       "      <th>4</th>\n",
       "      <td>10</td>\n",
       "      <td>X254</td>\n",
       "      <td>I.S. 254 - BRONX</td>\n",
       "      <td>SCA CIP RESOA</td>\n",
       "      <td>FY16 RESO A IP SURVEILLANCE CAMERA INSTALLATION</td>\n",
       "      <td>Construction</td>\n",
       "      <td>PNS</td>\n",
       "      <td>PNS</td>\n",
       "      <td>PNS</td>\n",
       "      <td>PNS</td>\n",
       "      <td>280280</td>\n",
       "      <td>280280.0</td>\n",
       "      <td>951.0</td>\n",
       "      <td>DSF: 0000823560</td>\n",
       "      <td>False</td>\n",
       "    </tr>\n",
       "  </tbody>\n",
       "</table>\n",
       "</div>"
      ],
      "text/plain": [
       "   project_geographic_district project_building_identifier  \\\n",
       "0                           10                        X254   \n",
       "1                           10                        X254   \n",
       "2                           10                        X254   \n",
       "3                           10                        X254   \n",
       "4                           10                        X254   \n",
       "\n",
       "  project_school_name   project_type  \\\n",
       "0    I.S. 254 - BRONX        SCA CIP   \n",
       "1    I.S. 254 - BRONX        SCA CIP   \n",
       "2    I.S. 254 - BRONX  SCA CIP RESOA   \n",
       "3    I.S. 254 - BRONX  SCA CIP RESOA   \n",
       "4    I.S. 254 - BRONX  SCA CIP RESOA   \n",
       "\n",
       "                               project_description project_phase_name  \\\n",
       "0                                     FACADE/ROOFS       Construction   \n",
       "1                                     FACADE/ROOFS            CM, F&E   \n",
       "2  FY16 RESO A IP SURVEILLANCE CAMERA INSTALLATION              Scope   \n",
       "3  FY16 RESO A IP SURVEILLANCE CAMERA INSTALLATION             Design   \n",
       "4  FY16 RESO A IP SURVEILLANCE CAMERA INSTALLATION       Construction   \n",
       "\n",
       "  project_status_name project_phase_actual_start_date  \\\n",
       "0         In-Progress                      07/07/2016   \n",
       "1         In-Progress                      07/07/2016   \n",
       "2            Complete                      07/27/2017   \n",
       "3         In-Progress                      08/04/2017   \n",
       "4                 PNS                             PNS   \n",
       "\n",
       "  project_phase_planned_end_date project_phase_actual_end_date  \\\n",
       "0                     03/28/2018                           NaN   \n",
       "1                     03/28/2018                           NaN   \n",
       "2                     11/27/2017                    08/03/2017   \n",
       "3                     02/05/2018                           NaN   \n",
       "4                            PNS                           PNS   \n",
       "\n",
       "  project_budget_amount  \\\n",
       "0               4050000   \n",
       "1                252000   \n",
       "2                     0   \n",
       "3                 19110   \n",
       "4                280280   \n",
       "\n",
       "   final_estimate_of_actual_costs_through_end_of_phase_amount  \\\n",
       "0                                          4229193.0            \n",
       "1                                           489326.0            \n",
       "2                                             1792.0            \n",
       "3                                            17318.0            \n",
       "4                                           280280.0            \n",
       "\n",
       "   total_phase_actual_spending_amount                 dsf_number_s  failure  \n",
       "0                           3791127.0  DSF: 0000821031, 0000822210    False  \n",
       "1                            485620.0  DSF: 0000821031, 0000822210    False  \n",
       "2                              1792.0              DSF: 0000823560    False  \n",
       "3                              7169.0              DSF: 0000823560     True  \n",
       "4                               951.0              DSF: 0000823560    False  "
      ]
     },
     "execution_count": 7,
     "metadata": {},
     "output_type": "execute_result"
    }
   ],
   "source": [
    "df.head()"
   ]
  },
  {
   "cell_type": "code",
   "execution_count": 8,
   "metadata": {},
   "outputs": [
    {
     "data": {
      "text/plain": [
       "Index(['project_geographic_district', 'project_building_identifier',\n",
       "       'project_school_name', 'project_type', 'project_description',\n",
       "       'project_phase_name', 'project_status_name',\n",
       "       'project_phase_actual_start_date', 'project_phase_planned_end_date',\n",
       "       'project_phase_actual_end_date', 'project_budget_amount',\n",
       "       'final_estimate_of_actual_costs_through_end_of_phase_amount',\n",
       "       'total_phase_actual_spending_amount', 'dsf_number_s', 'failure'],\n",
       "      dtype='object')"
      ]
     },
     "execution_count": 8,
     "metadata": {},
     "output_type": "execute_result"
    }
   ],
   "source": [
    "df.columns"
   ]
  },
  {
   "cell_type": "code",
   "execution_count": 9,
   "metadata": {},
   "outputs": [
    {
     "data": {
      "text/plain": [
       "failure                                                          bool\n",
       "project_geographic_district                                     int64\n",
       "final_estimate_of_actual_costs_through_end_of_phase_amount    float64\n",
       "total_phase_actual_spending_amount                            float64\n",
       "project_building_identifier                                    object\n",
       "project_school_name                                            object\n",
       "project_type                                                   object\n",
       "project_description                                            object\n",
       "project_phase_name                                             object\n",
       "project_status_name                                            object\n",
       "project_phase_actual_start_date                                object\n",
       "project_phase_planned_end_date                                 object\n",
       "project_phase_actual_end_date                                  object\n",
       "project_budget_amount                                          object\n",
       "dsf_number_s                                                   object\n",
       "dtype: object"
      ]
     },
     "execution_count": 9,
     "metadata": {},
     "output_type": "execute_result"
    }
   ],
   "source": [
    "df.dtypes.sort_values()"
   ]
  },
  {
   "cell_type": "code",
   "execution_count": 10,
   "metadata": {},
   "outputs": [
    {
     "name": "stdout",
     "output_type": "stream",
     "text": [
      "<class 'pandas.core.frame.DataFrame'>\n",
      "RangeIndex: 8185 entries, 0 to 8184\n",
      "Data columns (total 15 columns):\n",
      " #   Column                                                      Non-Null Count  Dtype  \n",
      "---  ------                                                      --------------  -----  \n",
      " 0   project_geographic_district                                 8185 non-null   int64  \n",
      " 1   project_building_identifier                                 8185 non-null   object \n",
      " 2   project_school_name                                         8185 non-null   object \n",
      " 3   project_type                                                8185 non-null   object \n",
      " 4   project_description                                         8185 non-null   object \n",
      " 5   project_phase_name                                          8184 non-null   object \n",
      " 6   project_status_name                                         8185 non-null   object \n",
      " 7   project_phase_actual_start_date                             8185 non-null   object \n",
      " 8   project_phase_planned_end_date                              8185 non-null   object \n",
      " 9   project_phase_actual_end_date                               6027 non-null   object \n",
      " 10  project_budget_amount                                       8185 non-null   object \n",
      " 11  final_estimate_of_actual_costs_through_end_of_phase_amount  8181 non-null   float64\n",
      " 12  total_phase_actual_spending_amount                          8185 non-null   float64\n",
      " 13  dsf_number_s                                                8185 non-null   object \n",
      " 14  failure                                                     8185 non-null   bool   \n",
      "dtypes: bool(1), float64(2), int64(1), object(11)\n",
      "memory usage: 903.4+ KB\n"
     ]
    }
   ],
   "source": [
    "df.info()"
   ]
  },
  {
   "cell_type": "markdown",
   "metadata": {},
   "source": [
    "## Failure"
   ]
  },
  {
   "cell_type": "code",
   "execution_count": 13,
   "metadata": {},
   "outputs": [
    {
     "data": {
      "text/plain": [
       "failure\n",
       "False    6979\n",
       "True     1206\n",
       "Name: count, dtype: int64"
      ]
     },
     "execution_count": 13,
     "metadata": {},
     "output_type": "execute_result"
    }
   ],
   "source": [
    "counts = df['failure'].value_counts()\n",
    "counts"
   ]
  },
  {
   "cell_type": "code",
   "execution_count": 17,
   "metadata": {},
   "outputs": [
    {
     "data": {
      "image/png": "[encoded data removed]",
      "text/plain": [
       "<Figure size 640x480 with 1 Axes>"
      ]
     },
     "metadata": {},
     "output_type": "display_data"
    }
   ],
   "source": [
    "# Plotting as a bar chart\n",
    "# plt.figure(figsize=(6, 4))\n",
    "counts.plot(kind='bar', color=['blue', 'orange'])\n",
    "plt.title('Distribution of Failure Column')\n",
    "plt.xlabel('IsAdult')\n",
    "plt.ylabel('Count')\n",
    "plt.xticks(rotation=0)\n",
    "plt.show()"
   ]
  },
  {
   "cell_type": "markdown",
   "metadata": {},
   "source": [
    "## Project Geographic District"
   ]
  },
  {
   "cell_type": "code",
   "execution_count": 18,
   "metadata": {},
   "outputs": [
    {
     "data": {
      "text/plain": [
       "0    10\n",
       "1    10\n",
       "2    10\n",
       "3    10\n",
       "4    10\n",
       "Name: project_geographic_district, dtype: int64"
      ]
     },
     "execution_count": 18,
     "metadata": {},
     "output_type": "execute_result"
    }
   ],
   "source": [
    "df['project_geographic_district'].head()"
   ]
  },
  {
   "cell_type": "code",
   "execution_count": 25,
   "metadata": {},
   "outputs": [
    {
     "data": {
      "text/plain": [
       "project_geographic_district\n",
       "31    619\n",
       "2     424\n",
       "22    355\n",
       "10    350\n",
       "27    338\n",
       "28    326\n",
       "21    320\n",
       "15    305\n",
       "24    304\n",
       "3     283\n",
       "20    277\n",
       "6     274\n",
       "25    264\n",
       "30    258\n",
       "26    250\n",
       "9     246\n",
       "19    236\n",
       "11    235\n",
       "18    234\n",
       "8     234\n",
       "29    229\n",
       "13    221\n",
       "17    207\n",
       "14    200\n",
       "32    175\n",
       "23    171\n",
       "5     157\n",
       "12    156\n",
       "4     146\n",
       "16    145\n",
       "7     141\n",
       "1     105\n",
       "Name: count, dtype: int64"
      ]
     },
     "execution_count": 25,
     "metadata": {},
     "output_type": "execute_result"
    }
   ],
   "source": [
    "counts = df['project_geographic_district'].value_counts()\n",
    "counts"
   ]
  },
  {
   "cell_type": "code",
   "execution_count": 24,
   "metadata": {},
   "outputs": [
    {
     "data": {
      "text/plain": [
       "array([10,  2, 11,  3, 25,  4, 15,  5, 16,  6, 12, 13,  7,  8, 14,  9,  1,\n",
       "       18, 30, 24, 19, 31, 20, 26, 21, 27, 22, 28, 23, 29, 17, 32])"
      ]
     },
     "execution_count": 24,
     "metadata": {},
     "output_type": "execute_result"
    }
   ],
   "source": [
    "df['project_geographic_district'].unique()"
   ]
  },
  {
   "cell_type": "code",
   "execution_count": 28,
   "metadata": {},
   "outputs": [
    {
     "data": {
      "text/plain": [
       "<Axes: xlabel='project_geographic_district'>"
      ]
     },
     "execution_count": 28,
     "metadata": {},
     "output_type": "execute_result"
    },
    {
     "data": {
      "image/png": "[encoded data removed]",
      "text/plain": [
       "<Figure size 640x480 with 1 Axes>"
      ]
     },
     "metadata": {},
     "output_type": "display_data"
    }
   ],
   "source": [
    "counts.plot(kind='bar')\n",
    "# plt.xticks(rotation=0)"
   ]
  },
  {
   "cell_type": "code",
   "execution_count": 29,
   "metadata": {},
   "outputs": [
    {
     "data": {
      "text/plain": [
       "0"
      ]
     },
     "execution_count": 29,
     "metadata": {},
     "output_type": "execute_result"
    }
   ],
   "source": [
    "# Find null values\n",
    "df['project_geographic_district'].isnull().sum()"
   ]
  },
  {
   "cell_type": "markdown",
   "metadata": {},
   "source": [
    "## final_estimate_of_actual_costs_through_end_of_phase_amount"
   ]
  },
  {
   "cell_type": "code",
   "execution_count": 30,
   "metadata": {},
   "outputs": [
    {
     "data": {
      "text/plain": [
       "0    4229193.0\n",
       "1     489326.0\n",
       "2       1792.0\n",
       "3      17318.0\n",
       "4     280280.0\n",
       "Name: final_estimate_of_actual_costs_through_end_of_phase_amount, dtype: float64"
      ]
     },
     "execution_count": 30,
     "metadata": {},
     "output_type": "execute_result"
    }
   ],
   "source": [
    "df['final_estimate_of_actual_costs_through_end_of_phase_amount'].head()"
   ]
  },
  {
   "cell_type": "code",
   "execution_count": 32,
   "metadata": {},
   "outputs": [
    {
     "data": {
      "text/html": [
       "<div>\n",
       "<style scoped>\n",
       "    .dataframe tbody tr th:only-of-type {\n",
       "        vertical-align: middle;\n",
       "    }\n",
       "\n",
       "    .dataframe tbody tr th {\n",
       "        vertical-align: top;\n",
       "    }\n",
       "\n",
       "    .dataframe thead th {\n",
       "        text-align: right;\n",
       "    }\n",
       "</style>\n",
       "<table border=\"1\" class=\"dataframe\">\n",
       "  <thead>\n",
       "    <tr style=\"text-align: right;\">\n",
       "      <th></th>\n",
       "      <th>project_geographic_district</th>\n",
       "      <th>project_building_identifier</th>\n",
       "      <th>project_school_name</th>\n",
       "      <th>project_type</th>\n",
       "      <th>project_description</th>\n",
       "      <th>project_phase_name</th>\n",
       "      <th>project_status_name</th>\n",
       "      <th>project_phase_actual_start_date</th>\n",
       "      <th>project_phase_planned_end_date</th>\n",
       "      <th>project_phase_actual_end_date</th>\n",
       "      <th>project_budget_amount</th>\n",
       "      <th>final_estimate_of_actual_costs_through_end_of_phase_amount</th>\n",
       "      <th>total_phase_actual_spending_amount</th>\n",
       "      <th>dsf_number_s</th>\n",
       "      <th>failure</th>\n",
       "    </tr>\n",
       "  </thead>\n",
       "  <tbody>\n",
       "    <tr>\n",
       "      <th>267</th>\n",
       "      <td>10</td>\n",
       "      <td>X843</td>\n",
       "      <td>P.S. 246 - BRONX</td>\n",
       "      <td>DIIT - Project Conne</td>\n",
       "      <td>CLASSROOM CONNECTIVITY</td>\n",
       "      <td>Purch &amp; Install</td>\n",
       "      <td>In-Progress</td>\n",
       "      <td>07/01/2016</td>\n",
       "      <td>07/01/2017</td>\n",
       "      <td>NaN</td>\n",
       "      <td>DIIT</td>\n",
       "      <td>NaN</td>\n",
       "      <td>0.0</td>\n",
       "      <td>DSF: 0000800265</td>\n",
       "      <td>True</td>\n",
       "    </tr>\n",
       "    <tr>\n",
       "      <th>2180</th>\n",
       "      <td>8</td>\n",
       "      <td>X060</td>\n",
       "      <td>THE LONGWOOD ACADEMY FOR DISCO</td>\n",
       "      <td>DIIT - Project Conne</td>\n",
       "      <td>CLASSROOM CONNECTIVITY</td>\n",
       "      <td>Purch &amp; Install</td>\n",
       "      <td>In-Progress</td>\n",
       "      <td>07/01/2016</td>\n",
       "      <td>07/01/2017</td>\n",
       "      <td>NaN</td>\n",
       "      <td>DIIT</td>\n",
       "      <td>NaN</td>\n",
       "      <td>0.0</td>\n",
       "      <td>DSF: 0000800217</td>\n",
       "      <td>True</td>\n",
       "    </tr>\n",
       "    <tr>\n",
       "      <th>2886</th>\n",
       "      <td>9</td>\n",
       "      <td>X132</td>\n",
       "      <td>P.S. 132 - BRONX</td>\n",
       "      <td>DIIT - Project Conne</td>\n",
       "      <td>CLASSROOM CONNECTIVITY</td>\n",
       "      <td>Purch &amp; Install</td>\n",
       "      <td>In-Progress</td>\n",
       "      <td>07/01/2016</td>\n",
       "      <td>07/01/2017</td>\n",
       "      <td>NaN</td>\n",
       "      <td>DIIT</td>\n",
       "      <td>NaN</td>\n",
       "      <td>0.0</td>\n",
       "      <td>DSF: 0000800237</td>\n",
       "      <td>True</td>\n",
       "    </tr>\n",
       "    <tr>\n",
       "      <th>8049</th>\n",
       "      <td>32</td>\n",
       "      <td>K116</td>\n",
       "      <td>P.S. 116 - BROOKLYN</td>\n",
       "      <td>DIIT - Project Conne</td>\n",
       "      <td>CLASSROOM CONNECTIVITY</td>\n",
       "      <td>Purch &amp; Install</td>\n",
       "      <td>In-Progress</td>\n",
       "      <td>07/01/2016</td>\n",
       "      <td>07/01/2017</td>\n",
       "      <td>NaN</td>\n",
       "      <td>DIIT</td>\n",
       "      <td>NaN</td>\n",
       "      <td>0.0</td>\n",
       "      <td>DSF: 0000776738</td>\n",
       "      <td>True</td>\n",
       "    </tr>\n",
       "  </tbody>\n",
       "</table>\n",
       "</div>"
      ],
      "text/plain": [
       "      project_geographic_district project_building_identifier  \\\n",
       "267                            10                        X843   \n",
       "2180                            8                        X060   \n",
       "2886                            9                        X132   \n",
       "8049                           32                        K116   \n",
       "\n",
       "                 project_school_name          project_type  \\\n",
       "267                 P.S. 246 - BRONX  DIIT - Project Conne   \n",
       "2180  THE LONGWOOD ACADEMY FOR DISCO  DIIT - Project Conne   \n",
       "2886                P.S. 132 - BRONX  DIIT - Project Conne   \n",
       "8049             P.S. 116 - BROOKLYN  DIIT - Project Conne   \n",
       "\n",
       "         project_description project_phase_name project_status_name  \\\n",
       "267   CLASSROOM CONNECTIVITY    Purch & Install         In-Progress   \n",
       "2180  CLASSROOM CONNECTIVITY    Purch & Install         In-Progress   \n",
       "2886  CLASSROOM CONNECTIVITY    Purch & Install         In-Progress   \n",
       "8049  CLASSROOM CONNECTIVITY    Purch & Install         In-Progress   \n",
       "\n",
       "     project_phase_actual_start_date project_phase_planned_end_date  \\\n",
       "267                       07/01/2016                     07/01/2017   \n",
       "2180                      07/01/2016                     07/01/2017   \n",
       "2886                      07/01/2016                     07/01/2017   \n",
       "8049                      07/01/2016                     07/01/2017   \n",
       "\n",
       "     project_phase_actual_end_date project_budget_amount  \\\n",
       "267                            NaN                  DIIT   \n",
       "2180                           NaN                  DIIT   \n",
       "2886                           NaN                  DIIT   \n",
       "8049                           NaN                  DIIT   \n",
       "\n",
       "      final_estimate_of_actual_costs_through_end_of_phase_amount  \\\n",
       "267                                                 NaN            \n",
       "2180                                                NaN            \n",
       "2886                                                NaN            \n",
       "8049                                                NaN            \n",
       "\n",
       "      total_phase_actual_spending_amount     dsf_number_s  failure  \n",
       "267                                  0.0  DSF: 0000800265     True  \n",
       "2180                                 0.0  DSF: 0000800217     True  \n",
       "2886                                 0.0  DSF: 0000800237     True  \n",
       "8049                                 0.0  DSF: 0000776738     True  "
      ]
     },
     "execution_count": 32,
     "metadata": {},
     "output_type": "execute_result"
    }
   ],
   "source": [
    "df[df['final_estimate_of_actual_costs_through_end_of_phase_amount'].isnull()]"
   ]
  },
  {
   "cell_type": "code",
   "execution_count": 34,
   "metadata": {},
   "outputs": [
    {
     "data": {
      "text/plain": [
       "count         8181.000000\n",
       "mean       1185589.680601\n",
       "std        6300405.825943\n",
       "min              0.000000\n",
       "25%          18419.000000\n",
       "50%          80309.000000\n",
       "75%         264000.000000\n",
       "max      115006550.000000\n",
       "Name: final_estimate_of_actual_costs_through_end_of_phase_amount, dtype: object"
      ]
     },
     "execution_count": 34,
     "metadata": {},
     "output_type": "execute_result"
    }
   ],
   "source": [
    "df['final_estimate_of_actual_costs_through_end_of_phase_amount'].describe().apply(lambda x: format(x, 'f'))"
   ]
  },
  {
   "cell_type": "code",
   "execution_count": 37,
   "metadata": {},
   "outputs": [
    {
     "data": {
      "text/plain": [
       "final_estimate_of_actual_costs_through_end_of_phase_amount\n",
       "0.0         458\n",
       "6000.0      103\n",
       "9000.0       91\n",
       "170000.0     85\n",
       "30000.0      71\n",
       "           ... \n",
       "243349.0      1\n",
       "14706.0       1\n",
       "116301.0      1\n",
       "99003.0       1\n",
       "435279.0      1\n",
       "Name: count, Length: 5730, dtype: int64"
      ]
     },
     "execution_count": 37,
     "metadata": {},
     "output_type": "execute_result"
    }
   ],
   "source": [
    "df['final_estimate_of_actual_costs_through_end_of_phase_amount'].value_counts()"
   ]
  },
  {
   "cell_type": "code",
   "execution_count": 38,
   "metadata": {},
   "outputs": [
    {
     "data": {
      "image/png": "[encoded data removed]",
      "text/plain": [
       "<Figure size 800x600 with 1 Axes>"
      ]
     },
     "metadata": {},
     "output_type": "display_data"
    }
   ],
   "source": [
    "plt.figure(figsize=(8, 6))\n",
    "plt.hist(df['final_estimate_of_actual_costs_through_end_of_phase_amount'], bins=20, color='blue', edgecolor='black')\n",
    "plt.show()"
   ]
  },
  {
   "cell_type": "code",
   "execution_count": 42,
   "metadata": {},
   "outputs": [],
   "source": [
    "without_zeroes = df[df['final_estimate_of_actual_costs_through_end_of_phase_amount'] != 0]"
   ]
  },
  {
   "cell_type": "code",
   "execution_count": 44,
   "metadata": {},
   "outputs": [
    {
     "data": {
      "text/plain": [
       "final_estimate_of_actual_costs_through_end_of_phase_amount\n",
       "6000.0      103\n",
       "9000.0       91\n",
       "170000.0     85\n",
       "30000.0      71\n",
       "15000.0      59\n",
       "           ... \n",
       "243349.0      1\n",
       "14706.0       1\n",
       "116301.0      1\n",
       "99003.0       1\n",
       "435279.0      1\n",
       "Name: count, Length: 5729, dtype: int64"
      ]
     },
     "execution_count": 44,
     "metadata": {},
     "output_type": "execute_result"
    }
   ],
   "source": [
    "without_zeroes['final_estimate_of_actual_costs_through_end_of_phase_amount'].value_counts()"
   ]
  },
  {
   "cell_type": "code",
   "execution_count": 40,
   "metadata": {},
   "outputs": [
    {
     "data": {
      "image/png": "[encoded data removed]",
      "text/plain": [
       "<Figure size 640x480 with 1 Axes>"
      ]
     },
     "metadata": {},
     "output_type": "display_data"
    }
   ],
   "source": [
    "plt.hist(without_zeroes['final_estimate_of_actual_costs_through_end_of_phase_amount'], bins=20, color='blue', edgecolor='black')\n",
    "plt.show()"
   ]
  },
  {
   "cell_type": "code",
   "execution_count": 48,
   "metadata": {},
   "outputs": [
    {
     "data": {
      "text/plain": [
       "79103198.0"
      ]
     },
     "execution_count": 48,
     "metadata": {},
     "output_type": "execute_result"
    }
   ],
   "source": [
    "sorted = df['final_estimate_of_actual_costs_through_end_of_phase_amount'].sort_values()\n",
    "sorted.iloc[-20]"
   ]
  },
  {
   "cell_type": "code",
   "execution_count": 50,
   "metadata": {},
   "outputs": [
    {
     "data": {
      "image/png": "[encoded data removed]",
      "text/plain": [
       "<Figure size 800x600 with 1 Axes>"
      ]
     },
     "metadata": {},
     "output_type": "display_data"
    }
   ],
   "source": [
    "plt.figure(figsize=(8, 6))\n",
    "plt.boxplot(df['final_estimate_of_actual_costs_through_end_of_phase_amount'])\n",
    "plt.show()"
   ]
  },
  {
   "cell_type": "code",
   "execution_count": 51,
   "metadata": {},
   "outputs": [
    {
     "data": {
      "image/png": "[encoded data removed]",
      "text/plain": [
       "<Figure size 800x600 with 1 Axes>"
      ]
     },
     "metadata": {},
     "output_type": "display_data"
    }
   ],
   "source": [
    "plt.figure(figsize=(8, 6))\n",
    "plt.hist(df['final_estimate_of_actual_costs_through_end_of_phase_amount'], bins=50, color='blue', edgecolor='black')\n",
    "plt.yscale('log')\n",
    "plt.title('Histogram with Logarithmic Scale')\n",
    "plt.xlabel('Values')\n",
    "plt.ylabel('Frequency (log scale)')\n",
    "plt.show()"
   ]
  },
  {
   "cell_type": "markdown",
   "metadata": {},
   "source": [
    "# Total Phase Spending Amount"
   ]
  },
  {
   "cell_type": "code",
   "execution_count": 53,
   "metadata": {},
   "outputs": [
    {
     "data": {
      "text/plain": [
       "0    3791127.0\n",
       "1     485620.0\n",
       "2       1792.0\n",
       "3       7169.0\n",
       "4        951.0\n",
       "Name: total_phase_actual_spending_amount, dtype: float64"
      ]
     },
     "execution_count": 53,
     "metadata": {},
     "output_type": "execute_result"
    }
   ],
   "source": [
    "df['total_phase_actual_spending_amount'].head()"
   ]
  },
  {
   "cell_type": "code",
   "execution_count": 54,
   "metadata": {},
   "outputs": [
    {
     "data": {
      "text/plain": [
       "count        8185.000000\n",
       "mean       409109.050336\n",
       "std       3255846.452696\n",
       "min             0.000000\n",
       "25%             0.000000\n",
       "50%          6762.000000\n",
       "75%         79396.000000\n",
       "max      79347056.000000\n",
       "Name: total_phase_actual_spending_amount, dtype: object"
      ]
     },
     "execution_count": 54,
     "metadata": {},
     "output_type": "execute_result"
    }
   ],
   "source": [
    "df['total_phase_actual_spending_amount'].describe().apply(lambda x: format(x, 'f'))"
   ]
  },
  {
   "cell_type": "code",
   "execution_count": 55,
   "metadata": {},
   "outputs": [
    {
     "data": {
      "text/plain": [
       "0"
      ]
     },
     "execution_count": 55,
     "metadata": {},
     "output_type": "execute_result"
    }
   ],
   "source": [
    "df['total_phase_actual_spending_amount'].isnull().sum()"
   ]
  },
  {
   "cell_type": "code",
   "execution_count": 57,
   "metadata": {},
   "outputs": [
    {
     "data": {
      "text/plain": [
       "0.6304870091891708"
      ]
     },
     "execution_count": 57,
     "metadata": {},
     "output_type": "execute_result"
    }
   ],
   "source": [
    "df['total_phase_actual_spending_amount'].corr(df['final_estimate_of_actual_costs_through_end_of_phase_amount'])"
   ]
  },
  {
   "cell_type": "code",
   "execution_count": 58,
   "metadata": {},
   "outputs": [
    {
     "data": {
      "image/png": "[encoded data removed]",
      "text/plain": [
       "<Figure size 800x600 with 1 Axes>"
      ]
     },
     "metadata": {},
     "output_type": "display_data"
    }
   ],
   "source": [
    "plt.figure(figsize=(8, 6))\n",
    "plt.hist(df['total_phase_actual_spending_amount'], bins=50, color='blue', edgecolor='black')\n",
    "plt.yscale('log')\n",
    "plt.title('Histogram with Logarithmic Scale')\n",
    "plt.xlabel('Values')\n",
    "plt.ylabel('Frequency (log scale)')\n",
    "plt.show()"
   ]
  },
  {
   "cell_type": "markdown",
   "metadata": {},
   "source": [
    "Project Buildigin dientifier    "
   ]
  },
  {
   "cell_type": "code",
   "execution_count": 62,
   "metadata": {},
   "outputs": [
    {
     "data": {
      "text/plain": [
       "project_building_identifier\n",
       "M470    34\n",
       "Q465    31\n",
       "K480    31\n",
       "R043    31\n",
       "K136    30\n",
       "        ..\n",
       "Q315     1\n",
       "M146     1\n",
       "Q290     1\n",
       "M107     1\n",
       "K842     1\n",
       "Name: count, Length: 1196, dtype: int64"
      ]
     },
     "execution_count": 62,
     "metadata": {},
     "output_type": "execute_result"
    }
   ],
   "source": [
    "df['project_building_identifier'].value_counts()"
   ]
  },
  {
   "cell_type": "code",
   "execution_count": 70,
   "metadata": {},
   "outputs": [
    {
     "data": {
      "text/plain": [
       "count\n",
       "4     184\n",
       "1     169\n",
       "5     122\n",
       "6      99\n",
       "8      93\n",
       "2      67\n",
       "9      66\n",
       "10     63\n",
       "7      59\n",
       "11     46\n",
       "3      44\n",
       "12     37\n",
       "14     34\n",
       "13     32\n",
       "15     15\n",
       "16     12\n",
       "18     11\n",
       "17      8\n",
       "19      8\n",
       "23      4\n",
       "31      3\n",
       "20      3\n",
       "22      3\n",
       "25      3\n",
       "26      3\n",
       "27      2\n",
       "21      1\n",
       "24      1\n",
       "28      1\n",
       "29      1\n",
       "30      1\n",
       "34      1\n",
       "Name: count, dtype: int64"
      ]
     },
     "execution_count": 70,
     "metadata": {},
     "output_type": "execute_result"
    }
   ],
   "source": [
    "df['project_building_identifier'].value_counts().value_counts()"
   ]
  },
  {
   "cell_type": "code",
   "execution_count": 68,
   "metadata": {},
   "outputs": [
    {
     "data": {
      "text/plain": [
       "1196"
      ]
     },
     "execution_count": 68,
     "metadata": {},
     "output_type": "execute_result"
    }
   ],
   "source": [
    "df['project_building_identifier'].nunique()"
   ]
  },
  {
   "cell_type": "code",
   "execution_count": 69,
   "metadata": {},
   "outputs": [
    {
     "data": {
      "text/plain": [
       "0"
      ]
     },
     "execution_count": 69,
     "metadata": {},
     "output_type": "execute_result"
    }
   ],
   "source": [
    "df['project_building_identifier'].isnull().sum()"
   ]
  },
  {
   "cell_type": "code",
   "execution_count": 67,
   "metadata": {},
   "outputs": [
    {
     "data": {
      "text/plain": [
       "<Axes: xlabel='project_building_identifier'>"
      ]
     },
     "execution_count": 67,
     "metadata": {},
     "output_type": "execute_result"
    },
    {
     "data": {
      "image/png": "[encoded data removed]",
      "text/plain": [
       "<Figure size 640x480 with 1 Axes>"
      ]
     },
     "metadata": {},
     "output_type": "display_data"
    }
   ],
   "source": [
    "df['project_building_identifier'].value_counts().plot(kind='bar')"
   ]
  },
  {
   "cell_type": "markdown",
   "metadata": {},
   "source": [
    "project school name"
   ]
  },
  {
   "cell_type": "code",
   "execution_count": 74,
   "metadata": {},
   "outputs": [
    {
     "data": {
      "text/plain": [
       "0"
      ]
     },
     "execution_count": 74,
     "metadata": {},
     "output_type": "execute_result"
    }
   ],
   "source": [
    "df['project_school_name'].isnull().sum()"
   ]
  },
  {
   "cell_type": "code",
   "execution_count": 73,
   "metadata": {},
   "outputs": [
    {
     "data": {
      "text/plain": [
       "project_school_name\n",
       "BROOKLYN TECH HS - K              30\n",
       "P.S. 198 - MANHATTAN              25\n",
       "DEWITT CLINTON HS - X             25\n",
       "AUGUST MARTIN HS - QUEENS         25\n",
       "NEW DORP HS - STATEN ISLAND       23\n",
       "                                  ..\n",
       "ROCKAWAY COLLEGIATE HIGH SCHOO     1\n",
       "ROCKAWAY PARK HIGH SCHOOL FOR      1\n",
       "I.S. 33 - BROOKLYN                 1\n",
       "BEGINNING WITH CHILDREN CHARTE     1\n",
       "I.S. 230 - QUEENS                  1\n",
       "Name: count, Length: 1483, dtype: int64"
      ]
     },
     "execution_count": 73,
     "metadata": {},
     "output_type": "execute_result"
    }
   ],
   "source": [
    "df['project_school_name'].value_counts()"
   ]
  },
  {
   "cell_type": "code",
   "execution_count": 75,
   "metadata": {},
   "outputs": [
    {
     "data": {
      "text/plain": [
       "count\n",
       "1     294\n",
       "4     286\n",
       "5     166\n",
       "2     122\n",
       "6     110\n",
       "8     104\n",
       "9      71\n",
       "10     64\n",
       "7      51\n",
       "3      42\n",
       "11     35\n",
       "12     34\n",
       "13     30\n",
       "14     21\n",
       "15     14\n",
       "16     11\n",
       "17      8\n",
       "18      6\n",
       "19      4\n",
       "22      4\n",
       "25      3\n",
       "20      1\n",
       "23      1\n",
       "30      1\n",
       "Name: count, dtype: int64"
      ]
     },
     "execution_count": 75,
     "metadata": {},
     "output_type": "execute_result"
    }
   ],
   "source": [
    "df['project_school_name'].value_counts().value_counts()"
   ]
  },
  {
   "cell_type": "code",
   "execution_count": 78,
   "metadata": {},
   "outputs": [
    {
     "data": {
      "text/html": [
       "<div>\n",
       "<style scoped>\n",
       "    .dataframe tbody tr th:only-of-type {\n",
       "        vertical-align: middle;\n",
       "    }\n",
       "\n",
       "    .dataframe tbody tr th {\n",
       "        vertical-align: top;\n",
       "    }\n",
       "\n",
       "    .dataframe thead th {\n",
       "        text-align: right;\n",
       "    }\n",
       "</style>\n",
       "<table border=\"1\" class=\"dataframe\">\n",
       "  <thead>\n",
       "    <tr style=\"text-align: right;\">\n",
       "      <th></th>\n",
       "      <th>project_geographic_district</th>\n",
       "      <th>project_building_identifier</th>\n",
       "      <th>project_school_name</th>\n",
       "      <th>project_type</th>\n",
       "      <th>project_description</th>\n",
       "      <th>project_phase_name</th>\n",
       "      <th>project_status_name</th>\n",
       "      <th>project_phase_actual_start_date</th>\n",
       "      <th>project_phase_planned_end_date</th>\n",
       "      <th>project_phase_actual_end_date</th>\n",
       "      <th>project_budget_amount</th>\n",
       "      <th>final_estimate_of_actual_costs_through_end_of_phase_amount</th>\n",
       "      <th>total_phase_actual_spending_amount</th>\n",
       "      <th>dsf_number_s</th>\n",
       "      <th>failure</th>\n",
       "    </tr>\n",
       "  </thead>\n",
       "  <tbody>\n",
       "    <tr>\n",
       "      <th>2015</th>\n",
       "      <td>13</td>\n",
       "      <td>K430</td>\n",
       "      <td>BROOKLYN TECH HS - K</td>\n",
       "      <td>SCA CIP</td>\n",
       "      <td>LOW VOLT ELEC SYS/KITCHEN FIRE SUPRESSION SYS</td>\n",
       "      <td>Scope</td>\n",
       "      <td>Complete</td>\n",
       "      <td>02/28/2013</td>\n",
       "      <td>05/29/2013</td>\n",
       "      <td>07/24/2013</td>\n",
       "      <td>77238</td>\n",
       "      <td>66703.0</td>\n",
       "      <td>66703.0</td>\n",
       "      <td>DSF: 0000760755, 0000777292</td>\n",
       "      <td>False</td>\n",
       "    </tr>\n",
       "    <tr>\n",
       "      <th>2016</th>\n",
       "      <td>13</td>\n",
       "      <td>K430</td>\n",
       "      <td>BROOKLYN TECH HS - K</td>\n",
       "      <td>SCA CIP</td>\n",
       "      <td>LOW VOLT ELEC SYS/KITCHEN FIRE SUPRESSION SYS</td>\n",
       "      <td>Design</td>\n",
       "      <td>Complete</td>\n",
       "      <td>08/21/2013</td>\n",
       "      <td>02/27/2014</td>\n",
       "      <td>09/04/2014</td>\n",
       "      <td>300370</td>\n",
       "      <td>399990.0</td>\n",
       "      <td>354172.0</td>\n",
       "      <td>DSF: 0000760755, 0000777292</td>\n",
       "      <td>False</td>\n",
       "    </tr>\n",
       "    <tr>\n",
       "      <th>2017</th>\n",
       "      <td>13</td>\n",
       "      <td>K430</td>\n",
       "      <td>BROOKLYN TECH HS - K</td>\n",
       "      <td>SCA CIP</td>\n",
       "      <td>LOW VOLT ELEC SYS/KITCHEN FIRE SUPRESSION SYS</td>\n",
       "      <td>Construction</td>\n",
       "      <td>In-Progress</td>\n",
       "      <td>11/24/2014</td>\n",
       "      <td>02/16/2016</td>\n",
       "      <td>NaN</td>\n",
       "      <td>4861703</td>\n",
       "      <td>5947877.0</td>\n",
       "      <td>5246866.0</td>\n",
       "      <td>DSF: 0000760755, 0000777292</td>\n",
       "      <td>False</td>\n",
       "    </tr>\n",
       "    <tr>\n",
       "      <th>2018</th>\n",
       "      <td>13</td>\n",
       "      <td>K430</td>\n",
       "      <td>BROOKLYN TECH HS - K</td>\n",
       "      <td>SCA CIP</td>\n",
       "      <td>LOW VOLT ELEC SYS/KITCHEN FIRE SUPRESSION SYS</td>\n",
       "      <td>CM, F&amp;E</td>\n",
       "      <td>In-Progress</td>\n",
       "      <td>11/24/2014</td>\n",
       "      <td>02/16/2016</td>\n",
       "      <td>NaN</td>\n",
       "      <td>472010</td>\n",
       "      <td>762944.0</td>\n",
       "      <td>744309.0</td>\n",
       "      <td>DSF: 0000760755, 0000777292</td>\n",
       "      <td>False</td>\n",
       "    </tr>\n",
       "    <tr>\n",
       "      <th>2019</th>\n",
       "      <td>13</td>\n",
       "      <td>K430</td>\n",
       "      <td>BROOKLYN TECH HS - K</td>\n",
       "      <td>SCA CIP</td>\n",
       "      <td>EXTERIOR MASONRY/ROOFS/PARAPETS/WINDOWS/PAVED ...</td>\n",
       "      <td>Scope</td>\n",
       "      <td>Complete</td>\n",
       "      <td>04/13/2016</td>\n",
       "      <td>08/26/2016</td>\n",
       "      <td>02/23/2017</td>\n",
       "      <td>283508</td>\n",
       "      <td>227859.0</td>\n",
       "      <td>203766.0</td>\n",
       "      <td>DSF: 0000828949, 0000850828, 0000850833, 00008...</td>\n",
       "      <td>False</td>\n",
       "    </tr>\n",
       "  </tbody>\n",
       "</table>\n",
       "</div>"
      ],
      "text/plain": [
       "      project_geographic_district project_building_identifier  \\\n",
       "2015                           13                        K430   \n",
       "2016                           13                        K430   \n",
       "2017                           13                        K430   \n",
       "2018                           13                        K430   \n",
       "2019                           13                        K430   \n",
       "\n",
       "       project_school_name project_type  \\\n",
       "2015  BROOKLYN TECH HS - K      SCA CIP   \n",
       "2016  BROOKLYN TECH HS - K      SCA CIP   \n",
       "2017  BROOKLYN TECH HS - K      SCA CIP   \n",
       "2018  BROOKLYN TECH HS - K      SCA CIP   \n",
       "2019  BROOKLYN TECH HS - K      SCA CIP   \n",
       "\n",
       "                                    project_description project_phase_name  \\\n",
       "2015      LOW VOLT ELEC SYS/KITCHEN FIRE SUPRESSION SYS              Scope   \n",
       "2016      LOW VOLT ELEC SYS/KITCHEN FIRE SUPRESSION SYS             Design   \n",
       "2017      LOW VOLT ELEC SYS/KITCHEN FIRE SUPRESSION SYS       Construction   \n",
       "2018      LOW VOLT ELEC SYS/KITCHEN FIRE SUPRESSION SYS            CM, F&E   \n",
       "2019  EXTERIOR MASONRY/ROOFS/PARAPETS/WINDOWS/PAVED ...              Scope   \n",
       "\n",
       "     project_status_name project_phase_actual_start_date  \\\n",
       "2015            Complete                      02/28/2013   \n",
       "2016            Complete                      08/21/2013   \n",
       "2017         In-Progress                      11/24/2014   \n",
       "2018         In-Progress                      11/24/2014   \n",
       "2019            Complete                      04/13/2016   \n",
       "\n",
       "     project_phase_planned_end_date project_phase_actual_end_date  \\\n",
       "2015                     05/29/2013                    07/24/2013   \n",
       "2016                     02/27/2014                    09/04/2014   \n",
       "2017                     02/16/2016                           NaN   \n",
       "2018                     02/16/2016                           NaN   \n",
       "2019                     08/26/2016                    02/23/2017   \n",
       "\n",
       "     project_budget_amount  \\\n",
       "2015                 77238   \n",
       "2016                300370   \n",
       "2017               4861703   \n",
       "2018                472010   \n",
       "2019                283508   \n",
       "\n",
       "      final_estimate_of_actual_costs_through_end_of_phase_amount  \\\n",
       "2015                                            66703.0            \n",
       "2016                                           399990.0            \n",
       "2017                                          5947877.0            \n",
       "2018                                           762944.0            \n",
       "2019                                           227859.0            \n",
       "\n",
       "      total_phase_actual_spending_amount  \\\n",
       "2015                             66703.0   \n",
       "2016                            354172.0   \n",
       "2017                           5246866.0   \n",
       "2018                            744309.0   \n",
       "2019                            203766.0   \n",
       "\n",
       "                                           dsf_number_s  failure  \n",
       "2015                        DSF: 0000760755, 0000777292    False  \n",
       "2016                        DSF: 0000760755, 0000777292    False  \n",
       "2017                        DSF: 0000760755, 0000777292    False  \n",
       "2018                        DSF: 0000760755, 0000777292    False  \n",
       "2019  DSF: 0000828949, 0000850828, 0000850833, 00008...    False  "
      ]
     },
     "execution_count": 78,
     "metadata": {},
     "output_type": "execute_result"
    }
   ],
   "source": [
    "df[df['project_school_name'] == 'BROOKLYN TECH HS - K'].head()"
   ]
  },
  {
   "cell_type": "code",
   "execution_count": 79,
   "metadata": {},
   "outputs": [
    {
     "data": {
      "text/html": [
       "<div>\n",
       "<style scoped>\n",
       "    .dataframe tbody tr th:only-of-type {\n",
       "        vertical-align: middle;\n",
       "    }\n",
       "\n",
       "    .dataframe tbody tr th {\n",
       "        vertical-align: top;\n",
       "    }\n",
       "\n",
       "    .dataframe thead th {\n",
       "        text-align: right;\n",
       "    }\n",
       "</style>\n",
       "<table border=\"1\" class=\"dataframe\">\n",
       "  <thead>\n",
       "    <tr style=\"text-align: right;\">\n",
       "      <th></th>\n",
       "      <th>project_geographic_district</th>\n",
       "      <th>project_building_identifier</th>\n",
       "      <th>project_school_name</th>\n",
       "      <th>project_type</th>\n",
       "      <th>project_description</th>\n",
       "      <th>project_phase_name</th>\n",
       "      <th>project_status_name</th>\n",
       "      <th>project_phase_actual_start_date</th>\n",
       "      <th>project_phase_planned_end_date</th>\n",
       "      <th>project_phase_actual_end_date</th>\n",
       "      <th>project_budget_amount</th>\n",
       "      <th>final_estimate_of_actual_costs_through_end_of_phase_amount</th>\n",
       "      <th>total_phase_actual_spending_amount</th>\n",
       "      <th>dsf_number_s</th>\n",
       "      <th>failure</th>\n",
       "    </tr>\n",
       "  </thead>\n",
       "  <tbody>\n",
       "    <tr>\n",
       "      <th>3224</th>\n",
       "      <td>2</td>\n",
       "      <td>M198</td>\n",
       "      <td>P.S. 198 - MANHATTAN</td>\n",
       "      <td>SCA CIP</td>\n",
       "      <td>WINDOWS/ROOFS/PARAPETS</td>\n",
       "      <td>Scope</td>\n",
       "      <td>Complete</td>\n",
       "      <td>02/13/2014</td>\n",
       "      <td>06/30/2014</td>\n",
       "      <td>08/14/2014</td>\n",
       "      <td>124905</td>\n",
       "      <td>93414.0</td>\n",
       "      <td>93414.0</td>\n",
       "      <td>DSF: 0000786768, 0000786769, 0000786770</td>\n",
       "      <td>False</td>\n",
       "    </tr>\n",
       "    <tr>\n",
       "      <th>3225</th>\n",
       "      <td>2</td>\n",
       "      <td>M198</td>\n",
       "      <td>P.S. 198 - MANHATTAN</td>\n",
       "      <td>SCA CIP</td>\n",
       "      <td>WINDOWS/ROOFS/PARAPETS</td>\n",
       "      <td>Design</td>\n",
       "      <td>Complete</td>\n",
       "      <td>10/01/2014</td>\n",
       "      <td>03/09/2015</td>\n",
       "      <td>04/06/2016</td>\n",
       "      <td>494872</td>\n",
       "      <td>382890.0</td>\n",
       "      <td>320192.0</td>\n",
       "      <td>DSF: 0000786768, 0000786769, 0000786770</td>\n",
       "      <td>False</td>\n",
       "    </tr>\n",
       "    <tr>\n",
       "      <th>3226</th>\n",
       "      <td>2</td>\n",
       "      <td>M198</td>\n",
       "      <td>P.S. 198 - MANHATTAN</td>\n",
       "      <td>SCA CIP</td>\n",
       "      <td>WINDOWS/ROOFS/PARAPETS</td>\n",
       "      <td>Construction</td>\n",
       "      <td>In-Progress</td>\n",
       "      <td>05/15/2017</td>\n",
       "      <td>11/05/2018</td>\n",
       "      <td>NaN</td>\n",
       "      <td>8852502</td>\n",
       "      <td>8038026.0</td>\n",
       "      <td>318024.0</td>\n",
       "      <td>DSF: 0000786768, 0000786769, 0000786770</td>\n",
       "      <td>False</td>\n",
       "    </tr>\n",
       "    <tr>\n",
       "      <th>3227</th>\n",
       "      <td>2</td>\n",
       "      <td>M198</td>\n",
       "      <td>P.S. 198 - MANHATTAN</td>\n",
       "      <td>SCA CIP</td>\n",
       "      <td>WINDOWS/ROOFS/PARAPETS</td>\n",
       "      <td>CM, F&amp;E</td>\n",
       "      <td>In-Progress</td>\n",
       "      <td>05/15/2017</td>\n",
       "      <td>11/05/2018</td>\n",
       "      <td>NaN</td>\n",
       "      <td>644650</td>\n",
       "      <td>105364.0</td>\n",
       "      <td>105011.0</td>\n",
       "      <td>DSF: 0000786768, 0000786769, 0000786770</td>\n",
       "      <td>False</td>\n",
       "    </tr>\n",
       "    <tr>\n",
       "      <th>3228</th>\n",
       "      <td>2</td>\n",
       "      <td>M198</td>\n",
       "      <td>P.S. 198 - MANHATTAN</td>\n",
       "      <td>SCA CIP RESOA</td>\n",
       "      <td>FY16 RESO A CAFETERIA UPGRADE</td>\n",
       "      <td>Scope</td>\n",
       "      <td>Complete</td>\n",
       "      <td>01/08/2016</td>\n",
       "      <td>05/10/2016</td>\n",
       "      <td>03/18/2016</td>\n",
       "      <td>0</td>\n",
       "      <td>8861.0</td>\n",
       "      <td>8861.0</td>\n",
       "      <td>DSF: 0000822316</td>\n",
       "      <td>False</td>\n",
       "    </tr>\n",
       "  </tbody>\n",
       "</table>\n",
       "</div>"
      ],
      "text/plain": [
       "      project_geographic_district project_building_identifier  \\\n",
       "3224                            2                        M198   \n",
       "3225                            2                        M198   \n",
       "3226                            2                        M198   \n",
       "3227                            2                        M198   \n",
       "3228                            2                        M198   \n",
       "\n",
       "       project_school_name   project_type            project_description  \\\n",
       "3224  P.S. 198 - MANHATTAN        SCA CIP         WINDOWS/ROOFS/PARAPETS   \n",
       "3225  P.S. 198 - MANHATTAN        SCA CIP         WINDOWS/ROOFS/PARAPETS   \n",
       "3226  P.S. 198 - MANHATTAN        SCA CIP         WINDOWS/ROOFS/PARAPETS   \n",
       "3227  P.S. 198 - MANHATTAN        SCA CIP         WINDOWS/ROOFS/PARAPETS   \n",
       "3228  P.S. 198 - MANHATTAN  SCA CIP RESOA  FY16 RESO A CAFETERIA UPGRADE   \n",
       "\n",
       "     project_phase_name project_status_name project_phase_actual_start_date  \\\n",
       "3224              Scope            Complete                      02/13/2014   \n",
       "3225             Design            Complete                      10/01/2014   \n",
       "3226       Construction         In-Progress                      05/15/2017   \n",
       "3227            CM, F&E         In-Progress                      05/15/2017   \n",
       "3228              Scope            Complete                      01/08/2016   \n",
       "\n",
       "     project_phase_planned_end_date project_phase_actual_end_date  \\\n",
       "3224                     06/30/2014                    08/14/2014   \n",
       "3225                     03/09/2015                    04/06/2016   \n",
       "3226                     11/05/2018                           NaN   \n",
       "3227                     11/05/2018                           NaN   \n",
       "3228                     05/10/2016                    03/18/2016   \n",
       "\n",
       "     project_budget_amount  \\\n",
       "3224                124905   \n",
       "3225                494872   \n",
       "3226               8852502   \n",
       "3227                644650   \n",
       "3228                     0   \n",
       "\n",
       "      final_estimate_of_actual_costs_through_end_of_phase_amount  \\\n",
       "3224                                            93414.0            \n",
       "3225                                           382890.0            \n",
       "3226                                          8038026.0            \n",
       "3227                                           105364.0            \n",
       "3228                                             8861.0            \n",
       "\n",
       "      total_phase_actual_spending_amount  \\\n",
       "3224                             93414.0   \n",
       "3225                            320192.0   \n",
       "3226                            318024.0   \n",
       "3227                            105011.0   \n",
       "3228                              8861.0   \n",
       "\n",
       "                                 dsf_number_s  failure  \n",
       "3224  DSF: 0000786768, 0000786769, 0000786770    False  \n",
       "3225  DSF: 0000786768, 0000786769, 0000786770    False  \n",
       "3226  DSF: 0000786768, 0000786769, 0000786770    False  \n",
       "3227  DSF: 0000786768, 0000786769, 0000786770    False  \n",
       "3228                          DSF: 0000822316    False  "
      ]
     },
     "execution_count": 79,
     "metadata": {},
     "output_type": "execute_result"
    }
   ],
   "source": [
    "df[df['project_school_name'] == 'P.S. 198 - MANHATTAN'].head()"
   ]
  },
  {
   "cell_type": "markdown",
   "metadata": {},
   "source": [
    "project type"
   ]
  },
  {
   "cell_type": "code",
   "execution_count": 80,
   "metadata": {},
   "outputs": [
    {
     "data": {
      "text/plain": [
       "0                    SCA CIP\n",
       "1                    SCA CIP\n",
       "2              SCA CIP RESOA\n",
       "3              SCA CIP RESOA\n",
       "4              SCA CIP RESOA\n",
       "                ...         \n",
       "8180    DOE - Skilled Trades\n",
       "8181                 SCA CIP\n",
       "8182                 SCA CIP\n",
       "8183                 SCA CIP\n",
       "8184                 SCA CIP\n",
       "Name: project_type, Length: 8185, dtype: object"
      ]
     },
     "execution_count": 80,
     "metadata": {},
     "output_type": "execute_result"
    }
   ],
   "source": [
    "df['project_type']"
   ]
  },
  {
   "cell_type": "code",
   "execution_count": 82,
   "metadata": {},
   "outputs": [
    {
     "data": {
      "text/plain": [
       "0"
      ]
     },
     "execution_count": 82,
     "metadata": {},
     "output_type": "execute_result"
    }
   ],
   "source": [
    "df['project_type'].isnull().sum()"
   ]
  },
  {
   "cell_type": "code",
   "execution_count": 81,
   "metadata": {},
   "outputs": [
    {
     "data": {
      "text/plain": [
       "project_type\n",
       "SCA CIP RESOA           2848\n",
       "SCA CIP                 2604\n",
       "SCA IEH                  652\n",
       "DIIT - RESOA             473\n",
       "DOE - Skilled Trades     339\n",
       "DOE- RESOA               252\n",
       "SCA Capacity             244\n",
       "DIIT - Project Conne     195\n",
       "DOE - Lead Paint         113\n",
       "Trust For Public Lan     107\n",
       "SCA Furniture & Equi      78\n",
       "SCA Emergency Lighti      72\n",
       "Fast Track Projects       60\n",
       "PRE-K                     56\n",
       "SCA Lease Site Impro      44\n",
       "DIIT - PBX Telephone      28\n",
       "DCAS/NYPA                 10\n",
       "RCT CIP                    5\n",
       "SCA Emergency Respon       4\n",
       "DOE Managed PREK           1\n",
       "Name: count, dtype: int64"
      ]
     },
     "execution_count": 81,
     "metadata": {},
     "output_type": "execute_result"
    }
   ],
   "source": [
    "df['project_type'].value_counts()"
   ]
  },
  {
   "cell_type": "code",
   "execution_count": 84,
   "metadata": {},
   "outputs": [
    {
     "data": {
      "text/plain": [
       "failure\n",
       "False    2335\n",
       "True      513\n",
       "Name: count, dtype: int64"
      ]
     },
     "execution_count": 84,
     "metadata": {},
     "output_type": "execute_result"
    }
   ],
   "source": [
    "df[df['project_type'] == 'SCA CIP RESOA']['failure'].value_counts()"
   ]
  },
  {
   "cell_type": "code",
   "execution_count": 85,
   "metadata": {},
   "outputs": [
    {
     "data": {
      "text/plain": [
       "failure\n",
       "False    2377\n",
       "True      227\n",
       "Name: count, dtype: int64"
      ]
     },
     "execution_count": 85,
     "metadata": {},
     "output_type": "execute_result"
    }
   ],
   "source": [
    "df[df['project_type'] == 'SCA CIP']['failure'].value_counts()"
   ]
  },
  {
   "cell_type": "markdown",
   "metadata": {},
   "source": [
    "project description"
   ]
  },
  {
   "cell_type": "code",
   "execution_count": 91,
   "metadata": {},
   "outputs": [
    {
     "data": {
      "text/plain": [
       "project_description\n",
       "FY18 RESO A MOBILE SCIENCE LAB                      473\n",
       "FY17 RESO A TECHNOLOGY                              450\n",
       "FY18 RESO A AUDITORIUM  UPGRADE                     276\n",
       "FY18 RESO A PLAYGROUNDS                             208\n",
       "IP DIGITAL VIDEO SURVEILLANCE SYSTEM                204\n",
       "                                                   ... \n",
       "IEH PO18-RMS 304,307,309,317 & 318                    1\n",
       "REPLACEMENT OF COOLING TOWERS                         1\n",
       "VACUUM PUMP SYSTEM REPLACEMENT                        1\n",
       "IEH PO18-NEW WING CORRIDORS ON 2ND FLR & 1ST FLR      1\n",
       "IEH PO18-LOBBY                                        1\n",
       "Name: count, Length: 1363, dtype: int64"
      ]
     },
     "execution_count": 91,
     "metadata": {},
     "output_type": "execute_result"
    }
   ],
   "source": [
    "counts = df['project_description'].value_counts()\n",
    "counts"
   ]
  },
  {
   "cell_type": "code",
   "execution_count": 89,
   "metadata": {},
   "outputs": [
    {
     "data": {
      "text/plain": [
       "0                                       FACADE/ROOFS\n",
       "1                                       FACADE/ROOFS\n",
       "2    FY16 RESO A IP SURVEILLANCE CAMERA INSTALLATION\n",
       "3    FY16 RESO A IP SURVEILLANCE CAMERA INSTALLATION\n",
       "4    FY16 RESO A IP SURVEILLANCE CAMERA INSTALLATION\n",
       "Name: project_description, dtype: object"
      ]
     },
     "execution_count": 89,
     "metadata": {},
     "output_type": "execute_result"
    }
   ],
   "source": [
    "df['project_description'].head()"
   ]
  },
  {
   "cell_type": "code",
   "execution_count": 93,
   "metadata": {},
   "outputs": [
    {
     "data": {
      "text/plain": [
       "<Axes: xlabel='project_description'>"
      ]
     },
     "execution_count": 93,
     "metadata": {},
     "output_type": "execute_result"
    },
    {
     "data": {
      "image/png": "[encoded data removed]",
      "text/plain": [
       "<Figure size 640x480 with 1 Axes>"
      ]
     },
     "metadata": {},
     "output_type": "display_data"
    }
   ],
   "source": [
    "df['project_description'].value_counts().plot(kind='bar')"
   ]
  },
  {
   "cell_type": "markdown",
   "metadata": {},
   "source": [
    "project phase name"
   ]
  },
  {
   "cell_type": "code",
   "execution_count": 94,
   "metadata": {},
   "outputs": [
    {
     "data": {
      "text/plain": [
       "0       Construction\n",
       "1            CM, F&E\n",
       "2              Scope\n",
       "3             Design\n",
       "4       Construction\n",
       "            ...     \n",
       "8180    Construction\n",
       "8181           Scope\n",
       "8182          Design\n",
       "8183    Construction\n",
       "8184         CM, F&E\n",
       "Name: project_phase_name, Length: 8185, dtype: object"
      ]
     },
     "execution_count": 94,
     "metadata": {},
     "output_type": "execute_result"
    }
   ],
   "source": [
    "df['project_phase_name']"
   ]
  },
  {
   "cell_type": "code",
   "execution_count": 95,
   "metadata": {},
   "outputs": [
    {
     "data": {
      "text/plain": [
       "project_phase_name\n",
       "Construction       2927\n",
       "Scope              1495\n",
       "Design             1495\n",
       "CM, F&E            1389\n",
       "Purch & Install     695\n",
       "F&E                 104\n",
       "CM,Art,F&E           61\n",
       "CM                   18\n",
       "Name: count, dtype: int64"
      ]
     },
     "execution_count": 95,
     "metadata": {},
     "output_type": "execute_result"
    }
   ],
   "source": [
    "df['project_phase_name'].value_counts()"
   ]
  },
  {
   "cell_type": "markdown",
   "metadata": {},
   "source": [
    "project status name"
   ]
  },
  {
   "cell_type": "code",
   "execution_count": 96,
   "metadata": {},
   "outputs": [
    {
     "data": {
      "text/plain": [
       "0       In-Progress\n",
       "1       In-Progress\n",
       "2          Complete\n",
       "3       In-Progress\n",
       "4               PNS\n",
       "           ...     \n",
       "8180    In-Progress\n",
       "8181       Complete\n",
       "8182    In-Progress\n",
       "8183            PNS\n",
       "8184            PNS\n",
       "Name: project_status_name, Length: 8185, dtype: object"
      ]
     },
     "execution_count": 96,
     "metadata": {},
     "output_type": "execute_result"
    }
   ],
   "source": [
    "df['project_status_name']"
   ]
  },
  {
   "cell_type": "code",
   "execution_count": 98,
   "metadata": {},
   "outputs": [
    {
     "data": {
      "text/plain": [
       "project_status_name\n",
       "PNS            3046\n",
       "Complete       2981\n",
       "In-Progress    2158\n",
       "Name: count, dtype: int64"
      ]
     },
     "execution_count": 98,
     "metadata": {},
     "output_type": "execute_result"
    }
   ],
   "source": [
    "df['project_status_name'].value_counts()"
   ]
  },
  {
   "cell_type": "markdown",
   "metadata": {},
   "source": [
    "project phsae actual date"
   ]
  },
  {
   "cell_type": "code",
   "execution_count": 121,
   "metadata": {},
   "outputs": [
    {
     "name": "stdout",
     "output_type": "stream",
     "text": [
      "FTK\n"
     ]
    }
   ],
   "source": [
    "def convert_to_datetime(value):\n",
    "    if value == 'PNS':\n",
    "        return value\n",
    "    try:\n",
    "        return pd.to_datetime(value)\n",
    "    except ValueError:\n",
    "        print(value)\n",
    "        return value\n",
    "    \n",
    "df['project_phase_actual_start_date'] = df['project_phase_actual_start_date'].apply(convert_to_datetime)"
   ]
  },
  {
   "cell_type": "code",
   "execution_count": 122,
   "metadata": {},
   "outputs": [
    {
     "data": {
      "text/plain": [
       "0    2016-07-07 00:00:00\n",
       "1    2016-07-07 00:00:00\n",
       "2    2017-07-27 00:00:00\n",
       "3    2017-08-04 00:00:00\n",
       "4                    PNS\n",
       "Name: project_phase_actual_start_date, dtype: object"
      ]
     },
     "execution_count": 122,
     "metadata": {},
     "output_type": "execute_result"
    }
   ],
   "source": [
    "df['project_phase_actual_start_date'].head()"
   ]
  },
  {
   "cell_type": "code",
   "execution_count": 123,
   "metadata": {},
   "outputs": [
    {
     "data": {
      "text/plain": [
       "project_phase_actual_start_date\n",
       "PNS                    3045\n",
       "2013-06-24 00:00:00     195\n",
       "2017-05-15 00:00:00      63\n",
       "2017-08-14 00:00:00      60\n",
       "2017-05-08 00:00:00      46\n",
       "                       ... \n",
       "2015-04-03 00:00:00       1\n",
       "2016-03-04 00:00:00       1\n",
       "2017-09-02 00:00:00       1\n",
       "2014-03-24 00:00:00       1\n",
       "2013-06-18 00:00:00       1\n",
       "Name: count, Length: 1069, dtype: int64"
      ]
     },
     "execution_count": 123,
     "metadata": {},
     "output_type": "execute_result"
    }
   ],
   "source": [
    "df['project_phase_actual_start_date'].value_counts()"
   ]
  },
  {
   "cell_type": "code",
   "execution_count": 126,
   "metadata": {},
   "outputs": [],
   "source": [
    "not_pns = df[~df['project_phase_actual_start_date'].isin(['PNS', 'FTK'])]"
   ]
  },
  {
   "cell_type": "code",
   "execution_count": null,
   "metadata": {},
   "outputs": [],
   "source": []
  },
  {
   "cell_type": "code",
   "execution_count": 127,
   "metadata": {},
   "outputs": [
    {
     "name": "stderr",
     "output_type": "stream",
     "text": [
      "/tmp/ipykernel_21015/2399253849.py:2: SettingWithCopyWarning: \n",
      "A value is trying to be set on a copy of a slice from a DataFrame.\n",
      "Try using .loc[row_indexer,col_indexer] = value instead\n",
      "\n",
      "See the caveats in the documentation: https://pandas.pydata.org/pandas-docs/stable/user_guide/indexing.html#returning-a-view-versus-a-copy\n",
      "  not_pns['project_phase_actual_start_date'] = pd.to_datetime(not_pns['project_phase_actual_start_date'])\n"
     ]
    },
    {
     "data": {
      "image/png": "[encoded data removed]",
      "text/plain": [
       "<Figure size 1000x600 with 1 Axes>"
      ]
     },
     "metadata": {},
     "output_type": "display_data"
    }
   ],
   "source": [
    "# Convert 'project_phase_actual_start_date' to datetime\n",
    "not_pns['project_phase_actual_start_date'] = pd.to_datetime(not_pns['project_phase_actual_start_date'])\n",
    "\n",
    "# Plotting histogram with dates\n",
    "plt.figure(figsize=(10, 6))\n",
    "plt.hist(not_pns['project_phase_actual_start_date'], bins=len(not_pns['project_phase_actual_start_date'].unique()), edgecolor='black')\n",
    "\n",
    "plt.title('Histogram of Project Phase Actual Start Dates')\n",
    "plt.xlabel('Date')\n",
    "plt.ylabel('Frequency')\n",
    "plt.xticks(rotation=45)\n",
    "plt.show()"
   ]
  },
  {
   "cell_type": "code",
   "execution_count": 131,
   "metadata": {},
   "outputs": [],
   "source": [
    "recent = not_pns[not_pns['project_phase_actual_start_date'] > '2014-01-01']"
   ]
  },
  {
   "cell_type": "code",
   "execution_count": 132,
   "metadata": {},
   "outputs": [
    {
     "name": "stderr",
     "output_type": "stream",
     "text": [
      "/tmp/ipykernel_21015/3367059039.py:2: SettingWithCopyWarning: \n",
      "A value is trying to be set on a copy of a slice from a DataFrame.\n",
      "Try using .loc[row_indexer,col_indexer] = value instead\n",
      "\n",
      "See the caveats in the documentation: https://pandas.pydata.org/pandas-docs/stable/user_guide/indexing.html#returning-a-view-versus-a-copy\n",
      "  recent['project_phase_actual_start_date'] = pd.to_datetime(recent['project_phase_actual_start_date'])\n"
     ]
    },
    {
     "data": {
      "image/png": "[encoded data removed]",
      "text/plain": [
       "<Figure size 1000x600 with 1 Axes>"
      ]
     },
     "metadata": {},
     "output_type": "display_data"
    }
   ],
   "source": [
    "# Convert 'project_phase_actual_start_date' to datetime\n",
    "recent['project_phase_actual_start_date'] = pd.to_datetime(recent['project_phase_actual_start_date'])\n",
    "\n",
    "# Plotting histogram with dates\n",
    "plt.figure(figsize=(10, 6))\n",
    "plt.hist(recent['project_phase_actual_start_date'], bins=len(recent['project_phase_actual_start_date'].unique()), edgecolor='black')\n",
    "\n",
    "plt.title('Histogram of Project Phase Actual Start Dates')\n",
    "plt.xlabel('Date')\n",
    "plt.ylabel('Frequency')\n",
    "plt.xticks(rotation=45)\n",
    "plt.show()"
   ]
  },
  {
   "cell_type": "markdown",
   "metadata": {},
   "source": [
    "project budget amount"
   ]
  },
  {
   "cell_type": "code",
   "execution_count": 134,
   "metadata": {},
   "outputs": [
    {
     "data": {
      "text/plain": [
       "0    4050000\n",
       "1     252000\n",
       "2          0\n",
       "3      19110\n",
       "4     280280\n",
       "Name: project_budget_amount, dtype: object"
      ]
     },
     "execution_count": 134,
     "metadata": {},
     "output_type": "execute_result"
    }
   ],
   "source": [
    "df['project_budget_amount'].head()"
   ]
  },
  {
   "cell_type": "code",
   "execution_count": 135,
   "metadata": {},
   "outputs": [
    {
     "name": "stdout",
     "output_type": "stream",
     "text": [
      "PNB\n",
      "PNB\n",
      "PNB\n",
      "PNB\n",
      "DOES\n",
      "IEH\n",
      "IEH\n",
      "IEH\n",
      "DOEL\n",
      "DOES\n",
      "DOES\n",
      "IEH\n",
      "IEH\n",
      "DOES\n",
      "IEH\n",
      "DIIX\n",
      "IEH\n",
      "DOES\n",
      "IEH\n",
      "DIIT\n",
      "IEH\n",
      "DIIT\n",
      "DIIT\n",
      "IEH\n",
      "IEH\n",
      "IEH\n",
      "IEH\n",
      "DIIT\n",
      "DIIT\n",
      "IEH\n",
      "DIIT\n",
      "FTK\n",
      "IEH\n",
      "IEH\n",
      "IEH\n",
      "DOES\n",
      "DOES\n",
      "DOES\n",
      "IEH\n",
      "DOES\n",
      "IEH\n",
      "IEH\n",
      "DIIT\n",
      "IEH\n",
      "DIIT\n",
      "IEH\n",
      "IEH\n",
      "IEH\n",
      "DOES\n",
      "IEH\n",
      "DOES\n",
      "IEH\n",
      "DOEL\n",
      "DOES\n",
      "IEH\n",
      "IEH\n",
      "IEH\n",
      "IEH\n",
      "IEH\n",
      "IEH\n",
      "PNB\n",
      "IEH\n",
      "IEH\n",
      "IEH\n",
      "IEH\n",
      "IEH\n",
      "IEH\n",
      "IEH\n",
      "IEH\n",
      "FTK\n",
      "IEH\n",
      "DOEL\n",
      "DOES\n",
      "IEH\n",
      "IEH\n",
      "IEH\n",
      "IEH\n",
      "DOES\n",
      "DOES\n",
      "IEH\n",
      "DOES\n",
      "IEH\n",
      "IEH\n",
      "IEH\n",
      "IEH\n",
      "IEH\n",
      "IEH\n",
      "IEH\n",
      "IEH\n",
      "IEH\n",
      "IEH\n",
      "IEH\n",
      "IEH\n",
      "IEH\n",
      "IEH\n",
      "DOES\n",
      "DIIT\n",
      "DIIT\n",
      "DOES\n",
      "IEH\n",
      "IEH\n",
      "DOES\n",
      "FTK\n",
      "IEH\n",
      "DOES\n",
      "DIIT\n",
      "DOES\n",
      "DIIT\n",
      "IEH\n",
      "IEH\n",
      "IEH\n",
      "DOES\n",
      "DIIT\n",
      "DIIT\n",
      "IEH\n",
      "FTK\n",
      "IEH\n",
      "DOES\n",
      "IEH\n",
      "DOES\n",
      "IEH\n",
      "IEH\n",
      "IEH\n",
      "IEH\n",
      "IEH\n",
      "IEH\n",
      "IEH\n",
      "IEH\n",
      "IEH\n",
      "DIIT\n",
      "DOES\n",
      "IEH\n",
      "IEH\n",
      "IEH\n",
      "DIIT\n",
      "IEH\n",
      "IEH\n",
      "DIIT\n",
      "IEH\n",
      "IEH\n",
      "IEH\n",
      "DIIT\n",
      "DOES\n",
      "IEH\n",
      "IEH\n",
      "IEH\n",
      "IEH\n",
      "FTK\n",
      "FTK\n",
      "DOEL\n",
      "DOEL\n",
      "DOEL\n",
      "DOEL\n",
      "DOEL\n",
      "DOES\n",
      "IEH\n",
      "IEH\n",
      "IEH\n",
      "IEH\n",
      "DIIX\n",
      "DIIT\n",
      "DOES\n",
      "IEH\n",
      "DIIT\n",
      "IEH\n",
      "IEH\n",
      "DIIT\n",
      "DIIT\n",
      "IEH\n",
      "DIIT\n",
      "IEH\n",
      "DIIT\n",
      "DOES\n",
      "IEH\n",
      "DOES\n",
      "IEH\n",
      "IEH\n",
      "DOES\n",
      "DIIT\n",
      "DIIT\n",
      "IEH\n",
      "IEH\n",
      "DIIT\n",
      "DIIT\n",
      "IEH\n",
      "DOES\n",
      "DOES\n",
      "FTK\n",
      "DOES\n",
      "DIIT\n",
      "DIIT\n",
      "IEH\n",
      "FTK\n",
      "IEH\n",
      "DOES\n",
      "IEH\n",
      "DOES\n",
      "DOES\n",
      "IEH\n",
      "IEH\n",
      "DIIX\n",
      "DOES\n",
      "FTK\n",
      "DIIT\n",
      "DOES\n",
      "DIIT\n",
      "DOES\n",
      "DIIT\n",
      "FTK\n",
      "IEH\n",
      "IEH\n",
      "DOEL\n",
      "DOEL\n",
      "IEH\n",
      "DOES\n",
      "IEH\n",
      "IEH\n",
      "FTK\n",
      "DIIT\n",
      "DOEL\n",
      "DOES\n",
      "DIIX\n",
      "DOES\n",
      "DOEL\n",
      "DIIT\n",
      "DIIT\n",
      "DIIT\n",
      "DIIT\n",
      "IEH\n",
      "DIIT\n",
      "FTK\n",
      "DIIT\n",
      "DOES\n",
      "IEH\n",
      "DIIT\n",
      "DOES\n",
      "DOES\n",
      "DIIT\n",
      "IEH\n",
      "IEH\n",
      "IEH\n",
      "IEH\n",
      "IEH\n",
      "IEH\n",
      "FTK\n",
      "DOES\n",
      "IEH\n",
      "IEH\n",
      "DOES\n",
      "IEH\n",
      "DOEL\n",
      "IEH\n",
      "IEH\n",
      "DOEL\n",
      "IEH\n",
      "IEH\n",
      "IEH\n",
      "IEH\n",
      "DOEL\n",
      "DOES\n",
      "IEH\n",
      "DOES\n",
      "IEH\n",
      "IEH\n",
      "DIIT\n",
      "DOEL\n",
      "IEH\n",
      "IEH\n",
      "IEH\n",
      "IEH\n",
      "DIIT\n",
      "DIIT\n",
      "DIIT\n",
      "DOEL\n",
      "DOEL\n",
      "DOES\n",
      "DOES\n",
      "IEH\n",
      "IEH\n",
      "IEH\n",
      "DOES\n",
      "IEH\n",
      "IEH\n",
      "IEH\n",
      "IEH\n",
      "DOES\n",
      "IEH\n",
      "PNB\n",
      "PNB\n",
      "PNB\n",
      "PNB\n",
      "PNB\n",
      "PNB\n",
      "PNB\n",
      "PNB\n",
      "IEH\n",
      "IEH\n",
      "IEH\n",
      "DOES\n",
      "IEH\n",
      "PNB\n",
      "PNB\n",
      "PNB\n",
      "PNB\n",
      "IEH\n",
      "IEH\n",
      "DOES\n",
      "IEH\n",
      "IEH\n",
      "DOES\n",
      "DIIT\n",
      "DOES\n",
      "DOES\n",
      "DOES\n",
      "DIIT\n",
      "DIIT\n",
      "IEH\n",
      "IEH\n",
      "DIIT\n",
      "DOEL\n",
      "DOEL\n",
      "IEH\n",
      "IEH\n",
      "DOES\n",
      "DOES\n",
      "IEH\n",
      "IEH\n",
      "IEH\n",
      "DOEL\n",
      "DOES\n",
      "IEH\n",
      "IEH\n",
      "IEH\n",
      "PNB\n",
      "PNB\n",
      "PNB\n",
      "PNB\n",
      "DOES\n",
      "DOES\n",
      "IEH\n",
      "IEH\n",
      "IEH\n",
      "DOEL\n",
      "DOEL\n",
      "IEH\n",
      "IEH\n",
      "IEH\n",
      "IEH\n",
      "IEH\n",
      "DOEL\n",
      "IEH\n",
      "IEH\n",
      "DOEL\n",
      "IEH\n",
      "DIIX\n",
      "DOES\n",
      "IEH\n",
      "IEH\n",
      "IEH\n",
      "IEH\n",
      "DOES\n",
      "DIIT\n",
      "IEH\n",
      "IEH\n",
      "DIIT\n",
      "DIIT\n",
      "DIIT\n",
      "DIIT\n",
      "IEH\n",
      "IEH\n",
      "DIIT\n",
      "IEH\n",
      "DIIT\n",
      "IEH\n",
      "IEH\n",
      "DIIT\n",
      "IEH\n",
      "IEH\n",
      "IEH\n",
      "FTK\n",
      "DOES\n",
      "IEH\n",
      "IEH\n",
      "IEH\n",
      "DOES\n",
      "DOES\n",
      "FTK\n",
      "IEH\n",
      "IEH\n",
      "IEH\n",
      "IEH\n",
      "IEH\n",
      "DOES\n",
      "DOES\n",
      "FTK\n",
      "DIIT\n",
      "DOES\n",
      "IEH\n",
      "IEH\n",
      "DOEL\n",
      "IEH\n",
      "DOEL\n",
      "IEH\n",
      "IEH\n",
      "IEH\n",
      "IEH\n",
      "IEH\n",
      "DIIT\n",
      "IEH\n",
      "DOES\n",
      "DOES\n",
      "IEH\n",
      "IEH\n",
      "IEH\n",
      "DOES\n",
      "DIIX\n",
      "DIIT\n",
      "DIIT\n",
      "DIIT\n",
      "IEH\n",
      "IEH\n",
      "FTK\n",
      "DIIX\n",
      "FTK\n",
      "IEH\n",
      "IEH\n",
      "DOES\n",
      "DOEL\n",
      "DOES\n",
      "IEH\n",
      "IEH\n",
      "FTK\n",
      "DOEL\n",
      "IEH\n",
      "IEH\n",
      "IEH\n",
      "FTK\n",
      "IEH\n",
      "IEH\n",
      "IEH\n",
      "IEH\n",
      "IEH\n",
      "FTK\n",
      "DOES\n",
      "DOEL\n",
      "DOES\n",
      "IEH\n",
      "IEH\n",
      "DOES\n",
      "DIIT\n",
      "DOES\n",
      "IEH\n",
      "IEH\n",
      "IEH\n",
      "IEH\n",
      "IEH\n",
      "DOES\n",
      "IEH\n",
      "DOES\n",
      "FTK\n",
      "IEH\n",
      "IEH\n",
      "IEH\n",
      "IEH\n",
      "IEH\n",
      "FTK\n",
      "DOES\n",
      "DOES\n",
      "IEH\n",
      "IEH\n",
      "IEH\n",
      "IEH\n",
      "IEH\n",
      "DOES\n",
      "DOES\n",
      "DOES\n",
      "IEH\n",
      "FTK\n",
      "DOES\n",
      "DOEL\n",
      "IEH\n",
      "IEH\n",
      "DIIT\n",
      "IEH\n",
      "DOEL\n",
      "DOEL\n",
      "DOEL\n",
      "IEH\n",
      "IEH\n",
      "DOES\n",
      "IEH\n",
      "IEH\n",
      "IEH\n",
      "IEH\n",
      "IEH\n",
      "DOES\n",
      "DOES\n",
      "DOES\n",
      "IEH\n",
      "IEH\n",
      "IEH\n",
      "IEH\n",
      "DOES\n",
      "IEH\n",
      "DIIT\n",
      "DOES\n",
      "DIIT\n",
      "DIIT\n",
      "IEH\n",
      "IEH\n",
      "IEH\n",
      "IEH\n",
      "DOES\n",
      "DOES\n",
      "PNB\n",
      "PNB\n",
      "PNB\n",
      "PNB\n",
      "IEH\n",
      "IEH\n",
      "DOEL\n",
      "IEH\n",
      "IEH\n",
      "IEH\n",
      "IEH\n",
      "DOEL\n",
      "IEH\n",
      "IEH\n",
      "IEH\n",
      "IEH\n",
      "IEH\n",
      "IEH\n",
      "DOES\n",
      "DOES\n",
      "DOES\n",
      "FTK\n",
      "FTK\n",
      "DIIT\n",
      "DIIT\n",
      "DOEL\n",
      "IEH\n",
      "DOES\n",
      "IEH\n",
      "IEH\n",
      "IEH\n",
      "IEH\n",
      "DIIX\n",
      "DOES\n",
      "IEH\n",
      "IEH\n",
      "IEH\n",
      "DOEL\n",
      "DOES\n",
      "DOEL\n",
      "DIIT\n",
      "IEH\n",
      "IEH\n",
      "IEH\n",
      "EMER\n",
      "IEH\n",
      "IEH\n",
      "IEH\n",
      "IEH\n",
      "IEH\n",
      "IEH\n",
      "DOES\n",
      "IEH\n",
      "DOES\n",
      "IEH\n",
      "IEH\n",
      "IEH\n",
      "DIIT\n",
      "DOES\n",
      "DOES\n",
      "IEH\n",
      "IEH\n",
      "DOES\n",
      "DIIT\n",
      "IEH\n",
      "DOES\n",
      "FTK\n",
      "DIIT\n",
      "DIIT\n",
      "DOEL\n",
      "IEH\n",
      "IEH\n",
      "DIIT\n",
      "DIIT\n",
      "DOES\n",
      "DIIT\n",
      "IEH\n",
      "DOEL\n",
      "DIIT\n",
      "DIIT\n",
      "IEH\n",
      "IEH\n",
      "DIIT\n",
      "DIIT\n",
      "DIIT\n",
      "DIIT\n",
      "DOES\n",
      "IEH\n",
      "IEH\n",
      "DOES\n",
      "DOES\n",
      "DOES\n",
      "DIIT\n",
      "DOEL\n",
      "DIIT\n",
      "DIIT\n",
      "DIIT\n",
      "DOES\n",
      "DIIT\n",
      "IEH\n",
      "DOES\n",
      "IEH\n",
      "IEH\n",
      "DIIT\n",
      "DOES\n",
      "IEH\n",
      "DOEL\n",
      "DOEL\n",
      "IEH\n",
      "DOEL\n",
      "DOEL\n",
      "DIIX\n",
      "DOES\n",
      "IEH\n",
      "DOES\n",
      "DOES\n",
      "DOES\n",
      "IEH\n",
      "IEH\n",
      "IEH\n",
      "DIIX\n",
      "IEH\n",
      "DOES\n",
      "DOES\n",
      "IEH\n",
      "IEH\n",
      "DOES\n",
      "IEH\n",
      "DOES\n",
      "IEH\n",
      "IEH\n",
      "IEH\n",
      "IEH\n",
      "IEH\n",
      "IEH\n",
      "DIIT\n",
      "DOES\n",
      "IEH\n",
      "IEH\n",
      "IEH\n",
      "IEH\n",
      "FTK\n",
      "DOES\n",
      "DOES\n",
      "DIIX\n",
      "IEH\n",
      "IEH\n",
      "IEH\n",
      "DOES\n",
      "IEH\n",
      "DOES\n",
      "IEH\n",
      "DOEL\n",
      "DOEL\n",
      "DIIT\n",
      "IEH\n",
      "IEH\n",
      "IEH\n",
      "FTK\n",
      "FTK\n",
      "FTK\n",
      "FTK\n",
      "IEH\n",
      "IEH\n",
      "IEH\n",
      "IEH\n",
      "IEH\n",
      "FTK\n",
      "DIIT\n",
      "DIIT\n",
      "DIIT\n",
      "DOES\n",
      "EMER\n",
      "DIIT\n",
      "DIIT\n",
      "DIIT\n",
      "DIIX\n",
      "DOEL\n",
      "DOEL\n",
      "DOES\n",
      "DOES\n",
      "DIIT\n",
      "FTK\n",
      "DOES\n",
      "DIIT\n",
      "DIIT\n",
      "DOES\n",
      "DOEL\n",
      "IEH\n",
      "IEH\n",
      "IEH\n",
      "IEH\n",
      "DOES\n",
      "IEH\n",
      "IEH\n",
      "DIIT\n",
      "DOES\n",
      "DOES\n",
      "DOES\n",
      "FTK\n",
      "DOEL\n",
      "DOEL\n",
      "IEH\n",
      "IEH\n",
      "DOES\n",
      "DOES\n",
      "IEH\n",
      "IEH\n",
      "IEH\n",
      "IEH\n",
      "FTK\n",
      "DOES\n",
      "IEH\n",
      "IEH\n",
      "DOES\n",
      "IEH\n",
      "DOES\n",
      "IEH\n",
      "DOEL\n",
      "DOES\n",
      "DOEL\n",
      "IEH\n",
      "DOEL\n",
      "IEH\n",
      "DIIT\n",
      "DOEL\n",
      "IEH\n",
      "DOES\n",
      "IEH\n",
      "IEH\n",
      "DIIX\n",
      "DOES\n",
      "IEH\n",
      "IEH\n",
      "IEH\n",
      "IEH\n",
      "IEH\n",
      "DOES\n",
      "DOES\n",
      "DOES\n",
      "DOES\n",
      "IEH\n",
      "FTK\n",
      "IEH\n",
      "IEH\n",
      "IEH\n",
      "IEH\n",
      "IEH\n",
      "IEH\n",
      "DIIT\n",
      "DOEL\n",
      "DOES\n",
      "DOES\n",
      "IEH\n",
      "DOES\n",
      "IEH\n",
      "IEH\n",
      "IEH\n",
      "DOEL\n",
      "DOEL\n",
      "IEH\n",
      "IEH\n",
      "DIIT\n",
      "IEH\n",
      "DOES\n",
      "DOES\n",
      "IEH\n",
      "IEH\n",
      "DOES\n",
      "DOES\n",
      "IEH\n",
      "IEH\n",
      "IEH\n",
      "DOES\n",
      "DOES\n",
      "DIIT\n",
      "DIIT\n",
      "DOEL\n",
      "DOEL\n",
      "DIIT\n",
      "IEH\n",
      "DIIT\n",
      "FTK\n",
      "DIIT\n",
      "IEH\n",
      "PNB\n",
      "PNB\n",
      "PNB\n",
      "PNB\n",
      "IEH\n",
      "IEH\n",
      "DIIT\n",
      "IEH\n",
      "IEH\n",
      "DOES\n",
      "DIIT\n",
      "DOES\n",
      "DIIT\n",
      "DOEL\n",
      "IEH\n",
      "IEH\n",
      "IEH\n",
      "DIIX\n",
      "DIIT\n",
      "DIIX\n",
      "DOEL\n",
      "IEH\n",
      "IEH\n",
      "IEH\n",
      "DOES\n",
      "IEH\n",
      "DIIT\n",
      "IEH\n",
      "DIIT\n",
      "IEH\n",
      "IEH\n",
      "DIIT\n",
      "IEH\n",
      "DOEL\n",
      "IEH\n",
      "DOES\n",
      "DIIT\n",
      "DOES\n",
      "DOES\n",
      "DOES\n",
      "DOES\n",
      "IEH\n",
      "DOES\n",
      "DOES\n",
      "DOES\n",
      "DOES\n",
      "IEH\n",
      "DOES\n",
      "DIIT\n",
      "IEH\n",
      "IEH\n",
      "IEH\n",
      "IEH\n",
      "IEH\n",
      "DIIT\n",
      "DOES\n",
      "IEH\n",
      "DIIT\n",
      "IEH\n",
      "IEH\n",
      "DIIT\n",
      "DOEL\n",
      "IEH\n",
      "IEH\n",
      "DOES\n",
      "DOES\n",
      "IEH\n",
      "IEH\n",
      "DIIT\n",
      "DOES\n",
      "DOES\n",
      "DIIT\n",
      "DIIT\n",
      "DIIT\n",
      "DOES\n",
      "DOES\n",
      "IEH\n",
      "IEH\n",
      "IEH\n",
      "IEH\n",
      "IEH\n",
      "IEH\n",
      "IEH\n",
      "IEH\n",
      "PNB\n",
      "PNB\n",
      "PNB\n",
      "IEH\n",
      "DOES\n",
      "DIIX\n",
      "DOES\n",
      "DIIT\n",
      "IEH\n",
      "IEH\n",
      "IEH\n",
      "IEH\n",
      "IEH\n",
      "IEH\n",
      "DIIT\n",
      "DOES\n",
      "DOES\n",
      "PNB\n",
      "PNB\n",
      "PNB\n",
      "PNB\n",
      "PNB\n",
      "PNB\n",
      "PNB\n",
      "PNB\n",
      "IEH\n",
      "IEH\n",
      "DOEL\n",
      "IEH\n",
      "DOES\n",
      "DIIT\n",
      "IEH\n",
      "DOEL\n",
      "DOEL\n",
      "PNB\n",
      "PNB\n",
      "PNB\n",
      "PNB\n",
      "IEH\n",
      "DIIX\n",
      "DOES\n",
      "DOES\n",
      "IEH\n",
      "DOES\n",
      "DOES\n",
      "IEH\n",
      "DOES\n",
      "DOES\n",
      "IEH\n",
      "DOEL\n",
      "DOES\n",
      "DOES\n",
      "IEH\n",
      "DIIX\n",
      "DIIT\n",
      "FTK\n",
      "DIIT\n",
      "DOEL\n",
      "DOEL\n",
      "IEH\n",
      "IEH\n",
      "IEH\n",
      "DOEL\n",
      "IEH\n",
      "DOEL\n",
      "DOEL\n",
      "IEH\n",
      "IEH\n",
      "IEH\n",
      "IEH\n",
      "DOEL\n",
      "DOES\n",
      "DIIT\n",
      "DOES\n",
      "IEH\n",
      "DOEL\n",
      "DOEL\n",
      "DOES\n",
      "DOES\n",
      "DOES\n",
      "DIIT\n",
      "DIIT\n",
      "IEH\n",
      "DIIX\n",
      "DOES\n",
      "IEH\n",
      "IEH\n",
      "IEH\n",
      "IEH\n",
      "DOES\n",
      "DOES\n",
      "IEH\n",
      "IEH\n",
      "DOES\n",
      "IEH\n",
      "DIIT\n",
      "DOEL\n",
      "DOES\n",
      "IEH\n",
      "DIIT\n",
      "IEH\n",
      "DIIT\n",
      "DOES\n",
      "DOES\n",
      "IEH\n",
      "DOES\n",
      "IEH\n",
      "DIIT\n",
      "DIIT\n",
      "DIIT\n",
      "IEH\n",
      "DOES\n",
      "IEH\n",
      "IEH\n",
      "IEH\n",
      "DOES\n",
      "DOES\n",
      "IEH\n",
      "IEH\n",
      "FTK\n",
      "FTK\n",
      "DIIT\n",
      "DOES\n",
      "DOES\n",
      "IEH\n",
      "IEH\n",
      "FTK\n",
      "DOES\n",
      "DOES\n",
      "DOEL\n",
      "DOEL\n",
      "DOEL\n",
      "DOES\n",
      "IEH\n",
      "IEH\n",
      "IEH\n",
      "DIIT\n",
      "DOEL\n",
      "DOEL\n",
      "DOEL\n",
      "DOES\n",
      "DOES\n",
      "EMER\n",
      "IEH\n",
      "FTK\n",
      "IEH\n",
      "FTK\n",
      "DOES\n",
      "DOES\n",
      "DOES\n",
      "IEH\n",
      "IEH\n",
      "IEH\n",
      "DIIT\n",
      "IEH\n",
      "IEH\n",
      "DIIT\n",
      "DOES\n",
      "PNB\n",
      "DIIT\n",
      "DIIT\n",
      "DOES\n",
      "IEH\n",
      "DIIT\n",
      "DOES\n",
      "DIIT\n",
      "DOES\n",
      "DOES\n",
      "DOEL\n",
      "DOES\n",
      "DOES\n",
      "DOES\n",
      "IEH\n",
      "IEH\n",
      "FTK\n",
      "FTK\n",
      "IEH\n",
      "DIIT\n",
      "DIIT\n",
      "IEH\n",
      "IEH\n",
      "DOES\n",
      "IEH\n",
      "IEH\n",
      "IEH\n",
      "IEH\n",
      "IEH\n",
      "IEH\n",
      "IEH\n",
      "DIIT\n",
      "IEH\n",
      "DOES\n",
      "IEH\n",
      "DOEL\n",
      "DOEL\n",
      "IEH\n",
      "DIIT\n",
      "DOEL\n",
      "DOES\n",
      "IEH\n",
      "IEH\n",
      "IEH\n",
      "DIIT\n",
      "IEH\n",
      "IEH\n",
      "DIIT\n",
      "IEH\n",
      "IEH\n",
      "IEH\n",
      "IEH\n",
      "IEH\n",
      "IEH\n",
      "FTK\n",
      "FTK\n",
      "IEH\n",
      "FTK\n",
      "FTK\n",
      "IEH\n",
      "IEH\n",
      "IEH\n",
      "FTK\n",
      "IEH\n",
      "IEH\n",
      "DIIT\n",
      "DOES\n",
      "IEH\n",
      "DOES\n",
      "DOES\n",
      "IEH\n",
      "DIIT\n",
      "DOES\n",
      "DIIT\n",
      "IEH\n",
      "DOES\n",
      "IEH\n",
      "IEH\n",
      "IEH\n",
      "IEH\n",
      "DIIX\n",
      "DIIT\n",
      "DOES\n",
      "DIIT\n",
      "DOES\n",
      "IEH\n",
      "IEH\n",
      "IEH\n",
      "IEH\n",
      "IEH\n",
      "IEH\n",
      "IEH\n",
      "IEH\n",
      "IEH\n",
      "IEH\n",
      "IEH\n",
      "IEH\n",
      "DOES\n",
      "DIIX\n",
      "IEH\n",
      "DOES\n",
      "DOEL\n",
      "DOEL\n",
      "DIIX\n",
      "DOES\n",
      "DOES\n",
      "IEH\n",
      "IEH\n",
      "IEH\n",
      "DOEL\n",
      "IEH\n",
      "IEH\n",
      "IEH\n",
      "IEH\n",
      "DIIT\n",
      "DOES\n",
      "DOES\n",
      "DOES\n",
      "FTK\n",
      "DOES\n",
      "DIIT\n",
      "DIIT\n",
      "IEH\n",
      "IEH\n",
      "IEH\n",
      "DOES\n",
      "DOES\n",
      "DOES\n",
      "DIIT\n",
      "DIIT\n",
      "DOES\n",
      "IEH\n",
      "IEH\n",
      "IEH\n",
      "DOES\n",
      "DOES\n",
      "DOES\n",
      "IEH\n",
      "IEH\n",
      "IEH\n",
      "IEH\n",
      "IEH\n",
      "IEH\n",
      "DOES\n",
      "IEH\n",
      "IEH\n",
      "IEH\n",
      "IEH\n",
      "IEH\n",
      "DOES\n",
      "DOES\n",
      "DOES\n",
      "DIIT\n",
      "DOES\n",
      "DOES\n",
      "DOES\n",
      "DIIT\n",
      "DIIT\n",
      "DOES\n",
      "DIIT\n",
      "IEH\n",
      "DIIX\n",
      "DOES\n",
      "IEH\n",
      "DOES\n",
      "DOES\n",
      "DOES\n",
      "IEH\n",
      "IEH\n",
      "DOES\n",
      "DOES\n",
      "DOES\n",
      "IEH\n",
      "DOES\n",
      "DOES\n",
      "IEH\n",
      "IEH\n",
      "DIIT\n",
      "DOEL\n",
      "DIIT\n",
      "IEH\n",
      "IEH\n",
      "DIIT\n",
      "IEH\n",
      "DIIT\n",
      "IEH\n",
      "DIIT\n",
      "IEH\n",
      "DOES\n",
      "DOES\n",
      "DOES\n",
      "DOES\n",
      "DOES\n",
      "DOES\n",
      "IEH\n",
      "IEH\n",
      "IEH\n",
      "IEH\n",
      "IEH\n",
      "IEH\n",
      "IEH\n",
      "IEH\n",
      "DOES\n",
      "IEH\n",
      "DIIT\n",
      "IEH\n",
      "IEH\n",
      "DIIT\n",
      "IEH\n",
      "DIIT\n",
      "IEH\n",
      "DIIT\n",
      "DOES\n",
      "IEH\n",
      "DOEL\n",
      "DOEL\n",
      "DOES\n",
      "IEH\n",
      "DOES\n",
      "DOEL\n",
      "DOEL\n",
      "IEH\n",
      "DOES\n",
      "IEH\n",
      "DIIX\n",
      "DOES\n",
      "DOES\n",
      "FTK\n",
      "DOES\n",
      "DOES\n",
      "IEH\n",
      "IEH\n",
      "FTK\n",
      "DOES\n",
      "IEH\n",
      "DIIT\n",
      "DOES\n",
      "DOES\n",
      "IEH\n",
      "IEH\n",
      "DOES\n",
      "IEH\n",
      "DIIT\n",
      "DIIT\n",
      "DOES\n",
      "EMER\n",
      "DIIT\n",
      "DOEL\n",
      "DOES\n",
      "DIIT\n",
      "DIIT\n",
      "IEH\n",
      "IEH\n",
      "FTK\n",
      "DOEL\n",
      "DOEL\n",
      "DOES\n",
      "DOEL\n",
      "IEH\n",
      "FTK\n",
      "FTK\n",
      "DOES\n",
      "DOES\n",
      "DIIT\n",
      "DIIT\n",
      "DOES\n",
      "DOES\n",
      "DOES\n",
      "IEH\n",
      "DIIT\n",
      "DOES\n",
      "DOES\n",
      "DOES\n",
      "DOES\n",
      "IEH\n",
      "DOEL\n",
      "IEH\n",
      "IEH\n",
      "DIIT\n",
      "DOES\n",
      "IEH\n",
      "DIIT\n",
      "DOEL\n",
      "IEH\n",
      "DOES\n",
      "DOES\n",
      "DOEL\n",
      "DOES\n",
      "IEH\n",
      "DOES\n",
      "DOES\n",
      "IEH\n",
      "DOEL\n",
      "IEH\n",
      "DOES\n",
      "DOES\n",
      "IEH\n",
      "DOES\n",
      "DIIX\n",
      "IEH\n",
      "IEH\n",
      "DOES\n",
      "DOES\n",
      "DOEL\n",
      "IEH\n",
      "IEH\n",
      "IEH\n",
      "DOEL\n",
      "DOES\n",
      "PNB\n",
      "PNB\n",
      "PNB\n",
      "PNB\n",
      "DIIX\n",
      "DOES\n",
      "IEH\n",
      "DOES\n",
      "IEH\n",
      "DOES\n",
      "IEH\n",
      "IEH\n",
      "IEH\n",
      "IEH\n",
      "IEH\n",
      "IEH\n",
      "IEH\n",
      "DOES\n",
      "IEH\n",
      "DOES\n",
      "IEH\n",
      "DOES\n",
      "DOES\n",
      "DOES\n",
      "DIIT\n",
      "DOES\n",
      "IEH\n",
      "DOES\n",
      "FTK\n",
      "DOES\n",
      "DOES\n",
      "IEH\n",
      "DOES\n",
      "DOES\n",
      "DOEL\n",
      "DOES\n",
      "DOES\n",
      "IEH\n",
      "IEH\n",
      "IEH\n",
      "IEH\n",
      "DOES\n",
      "IEH\n",
      "FTK\n",
      "DOES\n",
      "DOES\n",
      "DIIX\n",
      "FTK\n",
      "DOES\n",
      "DOES\n",
      "IEH\n",
      "IEH\n",
      "DOEL\n",
      "IEH\n",
      "IEH\n",
      "DIIT\n",
      "IEH\n",
      "DOEL\n",
      "IEH\n",
      "IEH\n",
      "IEH\n",
      "DOEL\n",
      "DOES\n",
      "IEH\n",
      "IEH\n",
      "DOEL\n",
      "DOEL\n",
      "IEH\n",
      "IEH\n",
      "IEH\n",
      "DIIX\n",
      "IEH\n",
      "DIIT\n",
      "IEH\n",
      "IEH\n",
      "DIIT\n",
      "DIIT\n",
      "IEH\n",
      "IEH\n",
      "IEH\n",
      "IEH\n",
      "DIIT\n",
      "DOES\n",
      "DIIT\n",
      "IEH\n",
      "IEH\n",
      "FTK\n",
      "DOES\n",
      "IEH\n",
      "DOES\n",
      "DOES\n"
     ]
    }
   ],
   "source": [
    "def convert_to_float(value):\n",
    "    try:\n",
    "        return float(value)\n",
    "    except ValueError:\n",
    "        print(value)\n",
    "        return value\n",
    "\n",
    "df['project_budget_amount'] = df['project_budget_amount'].apply(convert_to_float)"
   ]
  },
  {
   "cell_type": "code",
   "execution_count": 136,
   "metadata": {},
   "outputs": [],
   "source": [
    "only_floats = df[df['project_budget_amount'].apply(lambda x: isinstance(x, float))]"
   ]
  },
  {
   "cell_type": "code",
   "execution_count": 137,
   "metadata": {},
   "outputs": [
    {
     "data": {
      "text/plain": [
       "(6744, 15)"
      ]
     },
     "execution_count": 137,
     "metadata": {},
     "output_type": "execute_result"
    }
   ],
   "source": [
    "only_floats.shape"
   ]
  },
  {
   "cell_type": "code",
   "execution_count": 138,
   "metadata": {},
   "outputs": [
    {
     "data": {
      "text/plain": [
       "(8185,)"
      ]
     },
     "execution_count": 138,
     "metadata": {},
     "output_type": "execute_result"
    }
   ],
   "source": [
    "df['project_budget_amount'].shape"
   ]
  },
  {
   "cell_type": "code",
   "execution_count": 142,
   "metadata": {},
   "outputs": [
    {
     "data": {
      "text/plain": [
       "count     6744.0\n",
       "unique    3605.0\n",
       "top          0.0\n",
       "freq       717.0\n",
       "Name: project_budget_amount, dtype: float64"
      ]
     },
     "execution_count": 142,
     "metadata": {},
     "output_type": "execute_result"
    }
   ],
   "source": [
    "only_floats['project_budget_amount'].describe()"
   ]
  },
  {
   "cell_type": "code",
   "execution_count": 149,
   "metadata": {},
   "outputs": [
    {
     "data": {
      "text/plain": [
       "(array([5.143e+03, 5.670e+02, 1.980e+02, 1.070e+02, 7.600e+01, 5.500e+01,\n",
       "        3.500e+01, 2.800e+01, 2.000e+01, 2.400e+01, 3.200e+01, 2.000e+01,\n",
       "        2.000e+01, 2.400e+01, 1.400e+01, 2.300e+01, 2.800e+01, 2.400e+01,\n",
       "        2.500e+01, 2.300e+01, 1.200e+01, 9.000e+00, 1.000e+01, 1.200e+01,\n",
       "        1.400e+01, 1.300e+01, 1.100e+01, 4.000e+00, 7.000e+00, 8.000e+00,\n",
       "        6.000e+00, 6.000e+00, 6.000e+00, 1.000e+01, 1.000e+00, 3.000e+00,\n",
       "        6.000e+00, 1.000e+00, 5.000e+00, 2.000e+00, 4.000e+00, 1.000e+00,\n",
       "        7.000e+00, 3.000e+00, 4.000e+00, 0.000e+00, 0.000e+00, 0.000e+00,\n",
       "        1.000e+00, 2.000e+00]),\n",
       " array([       0.  ,   396915.78,   793831.56,  1190747.34,  1587663.12,\n",
       "         1984578.9 ,  2381494.68,  2778410.46,  3175326.24,  3572242.02,\n",
       "         3969157.8 ,  4366073.58,  4762989.36,  5159905.14,  5556820.92,\n",
       "         5953736.7 ,  6350652.48,  6747568.26,  7144484.04,  7541399.82,\n",
       "         7938315.6 ,  8335231.38,  8732147.16,  9129062.94,  9525978.72,\n",
       "         9922894.5 , 10319810.28, 10716726.06, 11113641.84, 11510557.62,\n",
       "        11907473.4 , 12304389.18, 12701304.96, 13098220.74, 13495136.52,\n",
       "        13892052.3 , 14288968.08, 14685883.86, 15082799.64, 15479715.42,\n",
       "        15876631.2 , 16273546.98, 16670462.76, 17067378.54, 17464294.32,\n",
       "        17861210.1 , 18258125.88, 18655041.66, 19051957.44, 19448873.22,\n",
       "        19845789.  ]),\n",
       " <BarContainer object of 50 artists>)"
      ]
     },
     "execution_count": 149,
     "metadata": {},
     "output_type": "execute_result"
    },
    {
     "data": {
      "image/png": "[encoded data removed]",
      "text/plain": [
       "<Figure size 640x480 with 1 Axes>"
      ]
     },
     "metadata": {},
     "output_type": "display_data"
    }
   ],
   "source": [
    "plt.hist(only_floats[only_floats['project_budget_amount'] < 20000000]['project_budget_amount'], bins=50, color='blue', edgecolor='black')"
   ]
  },
  {
   "cell_type": "code",
   "execution_count": 140,
   "metadata": {},
   "outputs": [
    {
     "data": {
      "text/plain": [
       "project_budget_amount\n",
       "0.0          717\n",
       "IEH          652\n",
       "DOES         339\n",
       "DIIT         195\n",
       "35000.0      152\n",
       "            ... \n",
       "2160000.0      1\n",
       "134400.0       1\n",
       "28140.0        1\n",
       "103180.0       1\n",
       "435279.0       1\n",
       "Name: count, Length: 3613, dtype: int64"
      ]
     },
     "execution_count": 140,
     "metadata": {},
     "output_type": "execute_result"
    }
   ],
   "source": [
    "df['project_budget_amount'].value_counts()"
   ]
  },
  {
   "cell_type": "markdown",
   "metadata": {},
   "source": [
    "end dates"
   ]
  },
  {
   "cell_type": "code",
   "execution_count": 152,
   "metadata": {},
   "outputs": [
    {
     "data": {
      "text/plain": [
       "project_phase_actual_end_date\n",
       "PNS           3045\n",
       "05/15/2017      29\n",
       "10/05/2017      23\n",
       "08/01/2017      21\n",
       "09/06/2017      21\n",
       "              ... \n",
       "07/20/2016       1\n",
       "11/21/2016       1\n",
       "10/18/2012       1\n",
       "12/19/2014       1\n",
       "11/18/2013       1\n",
       "Name: count, Length: 888, dtype: int64"
      ]
     },
     "execution_count": 152,
     "metadata": {},
     "output_type": "execute_result"
    }
   ],
   "source": [
    "df['project_phase_actual_end_date'].value_counts()"
   ]
  },
  {
   "cell_type": "code",
   "execution_count": 153,
   "metadata": {},
   "outputs": [
    {
     "data": {
      "text/plain": [
       "project_phase_planned_end_date\n",
       "PNS           3045\n",
       "IEH            652\n",
       "DOES           318\n",
       "01/15/2018     259\n",
       "12/31/2013     191\n",
       "              ... \n",
       "04/27/2017       1\n",
       "01/13/2017       1\n",
       "12/19/2017       1\n",
       "05/23/2016       1\n",
       "05/22/2014       1\n",
       "Name: count, Length: 1168, dtype: int64"
      ]
     },
     "execution_count": 153,
     "metadata": {},
     "output_type": "execute_result"
    }
   ],
   "source": [
    "df['project_phase_planned_end_date'].value_counts()"
   ]
  },
  {
   "cell_type": "code",
   "execution_count": 158,
   "metadata": {},
   "outputs": [
    {
     "data": {
      "text/plain": [
       "2158"
      ]
     },
     "execution_count": 158,
     "metadata": {},
     "output_type": "execute_result"
    }
   ],
   "source": [
    "df['project_phase_actual_end_date'].isna().sum()"
   ]
  },
  {
   "cell_type": "code",
   "execution_count": 159,
   "metadata": {},
   "outputs": [
    {
     "data": {
      "text/plain": [
       "0"
      ]
     },
     "execution_count": 159,
     "metadata": {},
     "output_type": "execute_result"
    }
   ],
   "source": [
    "df['project_phase_planned_end_date'].isna().sum()"
   ]
  },
  {
   "cell_type": "markdown",
   "metadata": {},
   "source": [
    "dsf_number"
   ]
  },
  {
   "cell_type": "code",
   "execution_count": 160,
   "metadata": {},
   "outputs": [
    {
     "data": {
      "text/plain": [
       "0       DSF: 0000821031, 0000822210\n",
       "1       DSF: 0000821031, 0000822210\n",
       "2                   DSF: 0000823560\n",
       "3                   DSF: 0000823560\n",
       "4                   DSF: 0000823560\n",
       "                   ...             \n",
       "8180                DSF: 0000851654\n",
       "8181                DSF: 0000776207\n",
       "8182                DSF: 0000776207\n",
       "8183                DSF: 0000776207\n",
       "8184                DSF: 0000776207\n",
       "Name: dsf_number_s, Length: 8185, dtype: object"
      ]
     },
     "execution_count": 160,
     "metadata": {},
     "output_type": "execute_result"
    }
   ],
   "source": [
    "df['dsf_number_s']"
   ]
  },
  {
   "cell_type": "code",
   "execution_count": 161,
   "metadata": {},
   "outputs": [
    {
     "data": {
      "text/html": [
       "<div>\n",
       "<style scoped>\n",
       "    .dataframe tbody tr th:only-of-type {\n",
       "        vertical-align: middle;\n",
       "    }\n",
       "\n",
       "    .dataframe tbody tr th {\n",
       "        vertical-align: top;\n",
       "    }\n",
       "\n",
       "    .dataframe thead th {\n",
       "        text-align: right;\n",
       "    }\n",
       "</style>\n",
       "<table border=\"1\" class=\"dataframe\">\n",
       "  <thead>\n",
       "    <tr style=\"text-align: right;\">\n",
       "      <th></th>\n",
       "      <th>project_geographic_district</th>\n",
       "      <th>project_building_identifier</th>\n",
       "      <th>project_school_name</th>\n",
       "      <th>project_type</th>\n",
       "      <th>project_description</th>\n",
       "      <th>project_phase_name</th>\n",
       "      <th>project_status_name</th>\n",
       "      <th>project_phase_actual_start_date</th>\n",
       "      <th>project_phase_planned_end_date</th>\n",
       "      <th>project_phase_actual_end_date</th>\n",
       "      <th>project_budget_amount</th>\n",
       "      <th>final_estimate_of_actual_costs_through_end_of_phase_amount</th>\n",
       "      <th>total_phase_actual_spending_amount</th>\n",
       "      <th>dsf_number_s</th>\n",
       "      <th>failure</th>\n",
       "    </tr>\n",
       "  </thead>\n",
       "  <tbody>\n",
       "    <tr>\n",
       "      <th>0</th>\n",
       "      <td>10</td>\n",
       "      <td>X254</td>\n",
       "      <td>I.S. 254 - BRONX</td>\n",
       "      <td>SCA CIP</td>\n",
       "      <td>FACADE/ROOFS</td>\n",
       "      <td>Construction</td>\n",
       "      <td>In-Progress</td>\n",
       "      <td>2016-07-07 00:00:00</td>\n",
       "      <td>03/28/2018</td>\n",
       "      <td>NaN</td>\n",
       "      <td>4050000.0</td>\n",
       "      <td>4229193.0</td>\n",
       "      <td>3791127.0</td>\n",
       "      <td>DSF: 0000821031, 0000822210</td>\n",
       "      <td>False</td>\n",
       "    </tr>\n",
       "    <tr>\n",
       "      <th>1</th>\n",
       "      <td>10</td>\n",
       "      <td>X254</td>\n",
       "      <td>I.S. 254 - BRONX</td>\n",
       "      <td>SCA CIP</td>\n",
       "      <td>FACADE/ROOFS</td>\n",
       "      <td>CM, F&amp;E</td>\n",
       "      <td>In-Progress</td>\n",
       "      <td>2016-07-07 00:00:00</td>\n",
       "      <td>03/28/2018</td>\n",
       "      <td>NaN</td>\n",
       "      <td>252000.0</td>\n",
       "      <td>489326.0</td>\n",
       "      <td>485620.0</td>\n",
       "      <td>DSF: 0000821031, 0000822210</td>\n",
       "      <td>False</td>\n",
       "    </tr>\n",
       "    <tr>\n",
       "      <th>2</th>\n",
       "      <td>10</td>\n",
       "      <td>X254</td>\n",
       "      <td>I.S. 254 - BRONX</td>\n",
       "      <td>SCA CIP RESOA</td>\n",
       "      <td>FY16 RESO A IP SURVEILLANCE CAMERA INSTALLATION</td>\n",
       "      <td>Scope</td>\n",
       "      <td>Complete</td>\n",
       "      <td>2017-07-27 00:00:00</td>\n",
       "      <td>11/27/2017</td>\n",
       "      <td>08/03/2017</td>\n",
       "      <td>0.0</td>\n",
       "      <td>1792.0</td>\n",
       "      <td>1792.0</td>\n",
       "      <td>DSF: 0000823560</td>\n",
       "      <td>False</td>\n",
       "    </tr>\n",
       "    <tr>\n",
       "      <th>3</th>\n",
       "      <td>10</td>\n",
       "      <td>X254</td>\n",
       "      <td>I.S. 254 - BRONX</td>\n",
       "      <td>SCA CIP RESOA</td>\n",
       "      <td>FY16 RESO A IP SURVEILLANCE CAMERA INSTALLATION</td>\n",
       "      <td>Design</td>\n",
       "      <td>In-Progress</td>\n",
       "      <td>2017-08-04 00:00:00</td>\n",
       "      <td>02/05/2018</td>\n",
       "      <td>NaN</td>\n",
       "      <td>19110.0</td>\n",
       "      <td>17318.0</td>\n",
       "      <td>7169.0</td>\n",
       "      <td>DSF: 0000823560</td>\n",
       "      <td>True</td>\n",
       "    </tr>\n",
       "    <tr>\n",
       "      <th>4</th>\n",
       "      <td>10</td>\n",
       "      <td>X254</td>\n",
       "      <td>I.S. 254 - BRONX</td>\n",
       "      <td>SCA CIP RESOA</td>\n",
       "      <td>FY16 RESO A IP SURVEILLANCE CAMERA INSTALLATION</td>\n",
       "      <td>Construction</td>\n",
       "      <td>PNS</td>\n",
       "      <td>PNS</td>\n",
       "      <td>PNS</td>\n",
       "      <td>PNS</td>\n",
       "      <td>280280.0</td>\n",
       "      <td>280280.0</td>\n",
       "      <td>951.0</td>\n",
       "      <td>DSF: 0000823560</td>\n",
       "      <td>False</td>\n",
       "    </tr>\n",
       "  </tbody>\n",
       "</table>\n",
       "</div>"
      ],
      "text/plain": [
       "   project_geographic_district project_building_identifier  \\\n",
       "0                           10                        X254   \n",
       "1                           10                        X254   \n",
       "2                           10                        X254   \n",
       "3                           10                        X254   \n",
       "4                           10                        X254   \n",
       "\n",
       "  project_school_name   project_type  \\\n",
       "0    I.S. 254 - BRONX        SCA CIP   \n",
       "1    I.S. 254 - BRONX        SCA CIP   \n",
       "2    I.S. 254 - BRONX  SCA CIP RESOA   \n",
       "3    I.S. 254 - BRONX  SCA CIP RESOA   \n",
       "4    I.S. 254 - BRONX  SCA CIP RESOA   \n",
       "\n",
       "                               project_description project_phase_name  \\\n",
       "0                                     FACADE/ROOFS       Construction   \n",
       "1                                     FACADE/ROOFS            CM, F&E   \n",
       "2  FY16 RESO A IP SURVEILLANCE CAMERA INSTALLATION              Scope   \n",
       "3  FY16 RESO A IP SURVEILLANCE CAMERA INSTALLATION             Design   \n",
       "4  FY16 RESO A IP SURVEILLANCE CAMERA INSTALLATION       Construction   \n",
       "\n",
       "  project_status_name project_phase_actual_start_date  \\\n",
       "0         In-Progress             2016-07-07 00:00:00   \n",
       "1         In-Progress             2016-07-07 00:00:00   \n",
       "2            Complete             2017-07-27 00:00:00   \n",
       "3         In-Progress             2017-08-04 00:00:00   \n",
       "4                 PNS                             PNS   \n",
       "\n",
       "  project_phase_planned_end_date project_phase_actual_end_date  \\\n",
       "0                     03/28/2018                           NaN   \n",
       "1                     03/28/2018                           NaN   \n",
       "2                     11/27/2017                    08/03/2017   \n",
       "3                     02/05/2018                           NaN   \n",
       "4                            PNS                           PNS   \n",
       "\n",
       "  project_budget_amount  \\\n",
       "0             4050000.0   \n",
       "1              252000.0   \n",
       "2                   0.0   \n",
       "3               19110.0   \n",
       "4              280280.0   \n",
       "\n",
       "   final_estimate_of_actual_costs_through_end_of_phase_amount  \\\n",
       "0                                          4229193.0            \n",
       "1                                           489326.0            \n",
       "2                                             1792.0            \n",
       "3                                            17318.0            \n",
       "4                                           280280.0            \n",
       "\n",
       "   total_phase_actual_spending_amount                 dsf_number_s  failure  \n",
       "0                           3791127.0  DSF: 0000821031, 0000822210    False  \n",
       "1                            485620.0  DSF: 0000821031, 0000822210    False  \n",
       "2                              1792.0              DSF: 0000823560    False  \n",
       "3                              7169.0              DSF: 0000823560     True  \n",
       "4                               951.0              DSF: 0000823560    False  "
      ]
     },
     "execution_count": 161,
     "metadata": {},
     "output_type": "execute_result"
    }
   ],
   "source": [
    "df.head()"
   ]
  },
  {
   "cell_type": "code",
   "execution_count": null,
   "metadata": {},
   "outputs": [],
   "source": []
  }
 ],
 "metadata": {
  "kernelspec": {
   "display_name": "Python 3",
   "language": "python",
   "name": "python3"
  },
  "language_info": {
   "codemirror_mode": {
    "name": "ipython",
    "version": 3
   },
   "file_extension": ".py",
   "mimetype": "text/x-python",
   "name": "python",
   "nbconvert_exporter": "python",
   "pygments_lexer": "ipython3",
   "version": "3.8.10"
  }
 },
 "nbformat": 4,
 "nbformat_minor": 2
}
