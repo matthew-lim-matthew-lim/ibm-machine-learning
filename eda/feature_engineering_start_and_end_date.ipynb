{
 "cells": [
  {
   "cell_type": "markdown",
   "metadata": {},
   "source": [
    "## Feature Engineering - Dates\n",
    "\n",
    "- project_phase_actual_start_date\n",
    "- project_phase_planned_end_date\n",
    "- project_phase_actual_end_date\n",
    "\n",
    "### Stuff to do:\n",
    "\n",
    "- Group by month.\n",
    "- Finding `Expected End - Start`. Finding the project length. \n",
    "- Finding `Expented End - Start` compared to the project cost.\n",
    "- Finding `Expended Project End Date - Actual Project End Date`. To see if actual project end date is after the estimated end date. Percentage of planned duration."
   ]
  },
  {
   "cell_type": "code",
   "execution_count": 6,
   "metadata": {},
   "outputs": [],
   "source": [
    "import pandas as pd\n",
    "import matplotlib.pyplot as plt\n",
    "\n",
    "df = pd.read_csv('https://datasocibmproject.s3.ap-southeast-2.amazonaws.com/structured_data/capital_project_schedules_and_budgets_1.csv')"
   ]
  },
  {
   "cell_type": "code",
   "execution_count": 8,
   "metadata": {},
   "outputs": [
    {
     "name": "stdout",
     "output_type": "stream",
     "text": [
      "['PNS' 'F&E' 'DOES' 'IEH' 'DOEL' 'DOER' 'FTK' 'EMER' 'DOEP' '/  /']\n"
     ]
    }
   ],
   "source": [
    "# We will get the non-date values, marking them as NaT\n",
    "\n",
    "# Keep a copy of the original column \n",
    "df['original_project_phase_planned_end_date'] = df['project_phase_planned_end_date']\n",
    "\n",
    "# Convert the 'project_phase_planned_end_date' to datetime, make all errors as NaT (Not a Time)\n",
    "df['project_phase_planned_end_date'] = pd.to_datetime(df['project_phase_planned_end_date'], errors='coerce')\n",
    "\n",
    "# Extract the original non-date values\n",
    "non_date_values = df[df['project_phase_planned_end_date'].isna()]['original_project_phase_planned_end_date']\n",
    "\n",
    "# Display the unique non-date values\n",
    "unique_non_date_values = non_date_values.unique()\n",
    "print(unique_non_date_values)\n",
    "\n"
   ]
  },
  {
   "cell_type": "markdown",
   "metadata": {},
   "source": [
    "We see that there are a number of non-date values in the date column. \n",
    "\n",
    "These values are:\n",
    "- PNS\n",
    "- F&E\n",
    "- DOES\n",
    "- IEH\n",
    "- DOEL\n",
    "- DOER\n",
    "- FTK\n",
    "- EMER\n",
    "- DOEP"
   ]
  },
  {
   "cell_type": "markdown",
   "metadata": {},
   "source": []
  },
  {
   "cell_type": "code",
   "execution_count": null,
   "metadata": {},
   "outputs": [],
   "source": []
  }
 ],
 "metadata": {
  "kernelspec": {
   "display_name": "Python 3",
   "language": "python",
   "name": "python3"
  },
  "language_info": {
   "codemirror_mode": {
    "name": "ipython",
    "version": 3
   },
   "file_extension": ".py",
   "mimetype": "text/x-python",
   "name": "python",
   "nbconvert_exporter": "python",
   "pygments_lexer": "ipython3",
   "version": "3.10.12"
  }
 },
 "nbformat": 4,
 "nbformat_minor": 2
}
